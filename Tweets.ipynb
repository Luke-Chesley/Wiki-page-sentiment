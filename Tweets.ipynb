{
  "nbformat": 4,
  "nbformat_minor": 0,
  "metadata": {
    "colab": {
      "provenance": []
    },
    "kernelspec": {
      "name": "python3",
      "display_name": "Python 3"
    },
    "language_info": {
      "name": "python"
    }
  },
  "cells": [
    {
      "cell_type": "markdown",
      "source": [
        "# Install and upgrade libraries"
      ],
      "metadata": {
        "id": "BBcCB3VSTRFK"
      }
    },
    {
      "cell_type": "code",
      "source": [
        "!pip install matplotlib --upgrade"
      ],
      "metadata": {
        "colab": {
          "base_uri": "https://localhost:8080/"
        },
        "id": "JTDa3-a9TPKN",
        "outputId": "a56637e7-bf5c-4fb2-ad07-2f8fecd5b858"
      },
      "execution_count": 3,
      "outputs": [
        {
          "output_type": "stream",
          "name": "stdout",
          "text": [
            "Looking in indexes: https://pypi.org/simple, https://us-python.pkg.dev/colab-wheels/public/simple/\n",
            "Requirement already satisfied: matplotlib in /usr/local/lib/python3.10/dist-packages (3.7.1)\n",
            "Requirement already satisfied: contourpy>=1.0.1 in /usr/local/lib/python3.10/dist-packages (from matplotlib) (1.0.7)\n",
            "Requirement already satisfied: cycler>=0.10 in /usr/local/lib/python3.10/dist-packages (from matplotlib) (0.11.0)\n",
            "Requirement already satisfied: fonttools>=4.22.0 in /usr/local/lib/python3.10/dist-packages (from matplotlib) (4.39.3)\n",
            "Requirement already satisfied: kiwisolver>=1.0.1 in /usr/local/lib/python3.10/dist-packages (from matplotlib) (1.4.4)\n",
            "Requirement already satisfied: numpy>=1.20 in /usr/local/lib/python3.10/dist-packages (from matplotlib) (1.22.4)\n",
            "Requirement already satisfied: packaging>=20.0 in /usr/local/lib/python3.10/dist-packages (from matplotlib) (23.1)\n",
            "Requirement already satisfied: pillow>=6.2.0 in /usr/local/lib/python3.10/dist-packages (from matplotlib) (8.4.0)\n",
            "Requirement already satisfied: pyparsing>=2.3.1 in /usr/local/lib/python3.10/dist-packages (from matplotlib) (3.0.9)\n",
            "Requirement already satisfied: python-dateutil>=2.7 in /usr/local/lib/python3.10/dist-packages (from matplotlib) (2.8.2)\n",
            "Requirement already satisfied: six>=1.5 in /usr/local/lib/python3.10/dist-packages (from python-dateutil>=2.7->matplotlib) (1.16.0)\n"
          ]
        }
      ]
    },
    {
      "cell_type": "code",
      "execution_count": 2,
      "metadata": {
        "id": "__JXWS9t2Q9k",
        "colab": {
          "base_uri": "https://localhost:8080/"
        },
        "outputId": "8ac6c138-4ba4-476d-fc8b-397e868319d8"
      },
      "outputs": [
        {
          "output_type": "stream",
          "name": "stdout",
          "text": [
            "Looking in indexes: https://pypi.org/simple, https://us-python.pkg.dev/colab-wheels/public/simple/\n",
            "Collecting snscrape\n",
            "  Downloading snscrape-0.6.2.20230320-py3-none-any.whl (71 kB)\n",
            "\u001b[2K     \u001b[90m━━━━━━━━━━━━━━━━━━━━━━━━━━━━━━━━━━━━━━━━\u001b[0m \u001b[32m71.8/71.8 kB\u001b[0m \u001b[31m4.0 MB/s\u001b[0m eta \u001b[36m0:00:00\u001b[0m\n",
            "\u001b[?25hRequirement already satisfied: requests[socks] in /usr/local/lib/python3.10/dist-packages (from snscrape) (2.27.1)\n",
            "Requirement already satisfied: lxml in /usr/local/lib/python3.10/dist-packages (from snscrape) (4.9.2)\n",
            "Requirement already satisfied: beautifulsoup4 in /usr/local/lib/python3.10/dist-packages (from snscrape) (4.11.2)\n",
            "Requirement already satisfied: filelock in /usr/local/lib/python3.10/dist-packages (from snscrape) (3.12.0)\n",
            "Requirement already satisfied: soupsieve>1.2 in /usr/local/lib/python3.10/dist-packages (from beautifulsoup4->snscrape) (2.4.1)\n",
            "Requirement already satisfied: urllib3<1.27,>=1.21.1 in /usr/local/lib/python3.10/dist-packages (from requests[socks]->snscrape) (1.26.15)\n",
            "Requirement already satisfied: certifi>=2017.4.17 in /usr/local/lib/python3.10/dist-packages (from requests[socks]->snscrape) (2022.12.7)\n",
            "Requirement already satisfied: charset-normalizer~=2.0.0 in /usr/local/lib/python3.10/dist-packages (from requests[socks]->snscrape) (2.0.12)\n",
            "Requirement already satisfied: idna<4,>=2.5 in /usr/local/lib/python3.10/dist-packages (from requests[socks]->snscrape) (3.4)\n",
            "Requirement already satisfied: PySocks!=1.5.7,>=1.5.6 in /usr/local/lib/python3.10/dist-packages (from requests[socks]->snscrape) (1.7.1)\n",
            "Installing collected packages: snscrape\n",
            "Successfully installed snscrape-0.6.2.20230320\n"
          ]
        }
      ],
      "source": [
        "!pip install snscrape"
      ]
    },
    {
      "cell_type": "code",
      "source": [
        "import nltk\n",
        "\n",
        "nltk.download('stopwords')\n",
        "nltk.download('vader_lexicon')"
      ],
      "metadata": {
        "id": "j1QJX06gGbcw",
        "colab": {
          "base_uri": "https://localhost:8080/"
        },
        "outputId": "d52a304b-1279-4407-fbc9-0366cb9443d6"
      },
      "execution_count": 1,
      "outputs": [
        {
          "output_type": "stream",
          "name": "stderr",
          "text": [
            "[nltk_data] Downloading package stopwords to /root/nltk_data...\n",
            "[nltk_data]   Unzipping corpora/stopwords.zip.\n",
            "[nltk_data] Downloading package vader_lexicon to /root/nltk_data...\n"
          ]
        },
        {
          "output_type": "execute_result",
          "data": {
            "text/plain": [
              "True"
            ]
          },
          "metadata": {},
          "execution_count": 1
        }
      ]
    },
    {
      "cell_type": "markdown",
      "source": [
        "# Import data"
      ],
      "metadata": {
        "id": "VnPnlS1nTW53"
      }
    },
    {
      "cell_type": "code",
      "source": [
        "import snscrape.modules.twitter as sntwitter\n",
        "import pandas as pd\n",
        "from nltk.corpus import stopwords\n",
        "import matplotlib.pyplot as plt\n",
        "\n",
        "\n",
        "pd.set_option('display.max_colwidth', None)\n"
      ],
      "metadata": {
        "id": "Tu4j8Q7N4mJr"
      },
      "execution_count": 5,
      "outputs": []
    },
    {
      "cell_type": "code",
      "source": [
        "query = \"(from:elonmusk) until:2022-12-15 since:2010-01-01\"\n",
        "tweets = []\n",
        "limit = 1\n",
        "\n",
        "for tweet in sntwitter.TwitterSearchScraper(query).get_items():\n",
        "  if len(tweets) == limit:\n",
        "    break\n",
        "  else:\n",
        "    tweets.append([tweet.date, tweet.username, tweet.content, tweet.likeCount, tweet.retweetCount])\n",
        "\n"
      ],
      "metadata": {
        "id": "neAID4a042GU",
        "colab": {
          "base_uri": "https://localhost:8080/",
          "height": 552
        },
        "outputId": "0d91d744-cccb-4aea-8c0e-9bfc48fbdf8f"
      },
      "execution_count": 7,
      "outputs": [
        {
          "output_type": "stream",
          "name": "stderr",
          "text": [
            "ERROR:snscrape.base:Error retrieving https://api.twitter.com/2/search/adaptive.json?include_profile_interstitial_type=1&include_blocking=1&include_blocked_by=1&include_followed_by=1&include_want_retweets=1&include_mute_edge=1&include_can_dm=1&include_can_media_tag=1&include_ext_has_nft_avatar=1&include_ext_is_blue_verified=1&include_ext_verified_type=1&skip_status=1&cards_platform=Web-12&include_cards=1&include_ext_alt_text=true&include_ext_limited_action_results=false&include_quote_count=true&include_reply_count=1&tweet_mode=extended&include_ext_collab_control=true&include_ext_views=true&include_entities=true&include_user_entities=true&include_ext_media_color=true&include_ext_media_availability=true&include_ext_sensitive_media_warning=true&include_ext_trusted_friends_metadata=true&send_error_codes=true&simple_quoted_tweet=true&q=%28from%3Aelonmusk%29+until%3A2022-12-15+since%3A2010-01-01&tweet_search_mode=live&count=20&query_source=spelling_expansion_revert_click&pc=1&spelling_corrections=1&include_ext_edit_control=true&ext=mediaStats%2ChighlightedLabel%2ChasNftAvatar%2CvoiceInfo%2Cenrichments%2CsuperFollowMetadata%2CunmentionInfo%2CeditControl%2Ccollab_control%2Cvibe: blocked (403)\n",
            "CRITICAL:snscrape.base:4 requests to https://api.twitter.com/2/search/adaptive.json?include_profile_interstitial_type=1&include_blocking=1&include_blocked_by=1&include_followed_by=1&include_want_retweets=1&include_mute_edge=1&include_can_dm=1&include_can_media_tag=1&include_ext_has_nft_avatar=1&include_ext_is_blue_verified=1&include_ext_verified_type=1&skip_status=1&cards_platform=Web-12&include_cards=1&include_ext_alt_text=true&include_ext_limited_action_results=false&include_quote_count=true&include_reply_count=1&tweet_mode=extended&include_ext_collab_control=true&include_ext_views=true&include_entities=true&include_user_entities=true&include_ext_media_color=true&include_ext_media_availability=true&include_ext_sensitive_media_warning=true&include_ext_trusted_friends_metadata=true&send_error_codes=true&simple_quoted_tweet=true&q=%28from%3Aelonmusk%29+until%3A2022-12-15+since%3A2010-01-01&tweet_search_mode=live&count=20&query_source=spelling_expansion_revert_click&pc=1&spelling_corrections=1&include_ext_edit_control=true&ext=mediaStats%2ChighlightedLabel%2ChasNftAvatar%2CvoiceInfo%2Cenrichments%2CsuperFollowMetadata%2CunmentionInfo%2CeditControl%2Ccollab_control%2Cvibe failed, giving up.\n",
            "CRITICAL:snscrape.base:Errors: blocked (403), blocked (403), blocked (403), blocked (403)\n"
          ]
        },
        {
          "output_type": "error",
          "ename": "ScraperException",
          "evalue": "ignored",
          "traceback": [
            "\u001b[0;31m---------------------------------------------------------------------------\u001b[0m",
            "\u001b[0;31mScraperException\u001b[0m                          Traceback (most recent call last)",
            "\u001b[0;32m<ipython-input-7-ef31ffc96f7e>\u001b[0m in \u001b[0;36m<cell line: 5>\u001b[0;34m()\u001b[0m\n\u001b[1;32m      3\u001b[0m \u001b[0mlimit\u001b[0m \u001b[0;34m=\u001b[0m \u001b[0;36m1\u001b[0m\u001b[0;34m\u001b[0m\u001b[0;34m\u001b[0m\u001b[0m\n\u001b[1;32m      4\u001b[0m \u001b[0;34m\u001b[0m\u001b[0m\n\u001b[0;32m----> 5\u001b[0;31m \u001b[0;32mfor\u001b[0m \u001b[0mtweet\u001b[0m \u001b[0;32min\u001b[0m \u001b[0msntwitter\u001b[0m\u001b[0;34m.\u001b[0m\u001b[0mTwitterSearchScraper\u001b[0m\u001b[0;34m(\u001b[0m\u001b[0mquery\u001b[0m\u001b[0;34m)\u001b[0m\u001b[0;34m.\u001b[0m\u001b[0mget_items\u001b[0m\u001b[0;34m(\u001b[0m\u001b[0;34m)\u001b[0m\u001b[0;34m:\u001b[0m\u001b[0;34m\u001b[0m\u001b[0;34m\u001b[0m\u001b[0m\n\u001b[0m\u001b[1;32m      6\u001b[0m   \u001b[0;32mif\u001b[0m \u001b[0mlen\u001b[0m\u001b[0;34m(\u001b[0m\u001b[0mtweets\u001b[0m\u001b[0;34m)\u001b[0m \u001b[0;34m==\u001b[0m \u001b[0mlimit\u001b[0m\u001b[0;34m:\u001b[0m\u001b[0;34m\u001b[0m\u001b[0;34m\u001b[0m\u001b[0m\n\u001b[1;32m      7\u001b[0m     \u001b[0;32mbreak\u001b[0m\u001b[0;34m\u001b[0m\u001b[0;34m\u001b[0m\u001b[0m\n",
            "\u001b[0;32m/usr/local/lib/python3.10/dist-packages/snscrape/modules/twitter.py\u001b[0m in \u001b[0;36mget_items\u001b[0;34m(self)\u001b[0m\n\u001b[1;32m   1659\u001b[0m                 \u001b[0;32mdel\u001b[0m \u001b[0mparams\u001b[0m\u001b[0;34m[\u001b[0m\u001b[0;34m'cursor'\u001b[0m\u001b[0;34m]\u001b[0m\u001b[0;34m\u001b[0m\u001b[0;34m\u001b[0m\u001b[0m\n\u001b[1;32m   1660\u001b[0m \u001b[0;34m\u001b[0m\u001b[0m\n\u001b[0;32m-> 1661\u001b[0;31m                 \u001b[0;32mfor\u001b[0m \u001b[0mobj\u001b[0m \u001b[0;32min\u001b[0m \u001b[0mself\u001b[0m\u001b[0;34m.\u001b[0m\u001b[0m_iter_api_data\u001b[0m\u001b[0;34m(\u001b[0m\u001b[0;34m'https://api.twitter.com/2/search/adaptive.json'\u001b[0m\u001b[0;34m,\u001b[0m \u001b[0m_TwitterAPIType\u001b[0m\u001b[0;34m.\u001b[0m\u001b[0mV2\u001b[0m\u001b[0;34m,\u001b[0m \u001b[0mparams\u001b[0m\u001b[0;34m,\u001b[0m \u001b[0mpaginationParams\u001b[0m\u001b[0;34m,\u001b[0m \u001b[0mcursor\u001b[0m \u001b[0;34m=\u001b[0m \u001b[0mself\u001b[0m\u001b[0;34m.\u001b[0m\u001b[0m_cursor\u001b[0m\u001b[0;34m)\u001b[0m\u001b[0;34m:\u001b[0m\u001b[0;34m\u001b[0m\u001b[0;34m\u001b[0m\u001b[0m\n\u001b[0m\u001b[1;32m   1662\u001b[0m                         \u001b[0;32myield\u001b[0m \u001b[0;32mfrom\u001b[0m \u001b[0mself\u001b[0m\u001b[0;34m.\u001b[0m\u001b[0m_v2_timeline_instructions_to_tweets_or_users\u001b[0m\u001b[0;34m(\u001b[0m\u001b[0mobj\u001b[0m\u001b[0;34m)\u001b[0m\u001b[0;34m\u001b[0m\u001b[0;34m\u001b[0m\u001b[0m\n\u001b[1;32m   1663\u001b[0m \u001b[0;34m\u001b[0m\u001b[0m\n",
            "\u001b[0;32m/usr/local/lib/python3.10/dist-packages/snscrape/modules/twitter.py\u001b[0m in \u001b[0;36m_iter_api_data\u001b[0;34m(self, endpoint, apiType, params, paginationParams, cursor, direction)\u001b[0m\n\u001b[1;32m    759\u001b[0m                 \u001b[0;32mwhile\u001b[0m \u001b[0;32mTrue\u001b[0m\u001b[0;34m:\u001b[0m\u001b[0;34m\u001b[0m\u001b[0;34m\u001b[0m\u001b[0m\n\u001b[1;32m    760\u001b[0m                         \u001b[0m_logger\u001b[0m\u001b[0;34m.\u001b[0m\u001b[0minfo\u001b[0m\u001b[0;34m(\u001b[0m\u001b[0;34mf'Retrieving scroll page {cursor}'\u001b[0m\u001b[0;34m)\u001b[0m\u001b[0;34m\u001b[0m\u001b[0;34m\u001b[0m\u001b[0m\n\u001b[0;32m--> 761\u001b[0;31m                         \u001b[0mobj\u001b[0m \u001b[0;34m=\u001b[0m \u001b[0mself\u001b[0m\u001b[0;34m.\u001b[0m\u001b[0m_get_api_data\u001b[0m\u001b[0;34m(\u001b[0m\u001b[0mendpoint\u001b[0m\u001b[0;34m,\u001b[0m \u001b[0mapiType\u001b[0m\u001b[0;34m,\u001b[0m \u001b[0mreqParams\u001b[0m\u001b[0;34m)\u001b[0m\u001b[0;34m\u001b[0m\u001b[0;34m\u001b[0m\u001b[0m\n\u001b[0m\u001b[1;32m    762\u001b[0m                         \u001b[0;32myield\u001b[0m \u001b[0mobj\u001b[0m\u001b[0;34m\u001b[0m\u001b[0;34m\u001b[0m\u001b[0m\n\u001b[1;32m    763\u001b[0m \u001b[0;34m\u001b[0m\u001b[0m\n",
            "\u001b[0;32m/usr/local/lib/python3.10/dist-packages/snscrape/modules/twitter.py\u001b[0m in \u001b[0;36m_get_api_data\u001b[0;34m(self, endpoint, apiType, params)\u001b[0m\n\u001b[1;32m    725\u001b[0m                 \u001b[0;32mif\u001b[0m \u001b[0mapiType\u001b[0m \u001b[0;32mis\u001b[0m \u001b[0m_TwitterAPIType\u001b[0m\u001b[0;34m.\u001b[0m\u001b[0mGRAPHQL\u001b[0m\u001b[0;34m:\u001b[0m\u001b[0;34m\u001b[0m\u001b[0;34m\u001b[0m\u001b[0m\n\u001b[1;32m    726\u001b[0m                         \u001b[0mparams\u001b[0m \u001b[0;34m=\u001b[0m \u001b[0murllib\u001b[0m\u001b[0;34m.\u001b[0m\u001b[0mparse\u001b[0m\u001b[0;34m.\u001b[0m\u001b[0murlencode\u001b[0m\u001b[0;34m(\u001b[0m\u001b[0;34m{\u001b[0m\u001b[0mk\u001b[0m\u001b[0;34m:\u001b[0m \u001b[0mjson\u001b[0m\u001b[0;34m.\u001b[0m\u001b[0mdumps\u001b[0m\u001b[0;34m(\u001b[0m\u001b[0mv\u001b[0m\u001b[0;34m,\u001b[0m \u001b[0mseparators\u001b[0m \u001b[0;34m=\u001b[0m \u001b[0;34m(\u001b[0m\u001b[0;34m','\u001b[0m\u001b[0;34m,\u001b[0m \u001b[0;34m':'\u001b[0m\u001b[0;34m)\u001b[0m\u001b[0;34m)\u001b[0m \u001b[0;32mfor\u001b[0m \u001b[0mk\u001b[0m\u001b[0;34m,\u001b[0m \u001b[0mv\u001b[0m \u001b[0;32min\u001b[0m \u001b[0mparams\u001b[0m\u001b[0;34m.\u001b[0m\u001b[0mitems\u001b[0m\u001b[0;34m(\u001b[0m\u001b[0;34m)\u001b[0m\u001b[0;34m}\u001b[0m\u001b[0;34m,\u001b[0m \u001b[0mquote_via\u001b[0m \u001b[0;34m=\u001b[0m \u001b[0murllib\u001b[0m\u001b[0;34m.\u001b[0m\u001b[0mparse\u001b[0m\u001b[0;34m.\u001b[0m\u001b[0mquote\u001b[0m\u001b[0;34m)\u001b[0m\u001b[0;34m\u001b[0m\u001b[0;34m\u001b[0m\u001b[0m\n\u001b[0;32m--> 727\u001b[0;31m                 \u001b[0mr\u001b[0m \u001b[0;34m=\u001b[0m \u001b[0mself\u001b[0m\u001b[0;34m.\u001b[0m\u001b[0m_get\u001b[0m\u001b[0;34m(\u001b[0m\u001b[0mendpoint\u001b[0m\u001b[0;34m,\u001b[0m \u001b[0mparams\u001b[0m \u001b[0;34m=\u001b[0m \u001b[0mparams\u001b[0m\u001b[0;34m,\u001b[0m \u001b[0mheaders\u001b[0m \u001b[0;34m=\u001b[0m \u001b[0mself\u001b[0m\u001b[0;34m.\u001b[0m\u001b[0m_apiHeaders\u001b[0m\u001b[0;34m,\u001b[0m \u001b[0mresponseOkCallback\u001b[0m \u001b[0;34m=\u001b[0m \u001b[0mself\u001b[0m\u001b[0;34m.\u001b[0m\u001b[0m_check_api_response\u001b[0m\u001b[0;34m)\u001b[0m\u001b[0;34m\u001b[0m\u001b[0;34m\u001b[0m\u001b[0m\n\u001b[0m\u001b[1;32m    728\u001b[0m                 \u001b[0;32mtry\u001b[0m\u001b[0;34m:\u001b[0m\u001b[0;34m\u001b[0m\u001b[0;34m\u001b[0m\u001b[0m\n\u001b[1;32m    729\u001b[0m                         \u001b[0mobj\u001b[0m \u001b[0;34m=\u001b[0m \u001b[0mr\u001b[0m\u001b[0;34m.\u001b[0m\u001b[0mjson\u001b[0m\u001b[0;34m(\u001b[0m\u001b[0;34m)\u001b[0m\u001b[0;34m\u001b[0m\u001b[0;34m\u001b[0m\u001b[0m\n",
            "\u001b[0;32m/usr/local/lib/python3.10/dist-packages/snscrape/base.py\u001b[0m in \u001b[0;36m_get\u001b[0;34m(self, *args, **kwargs)\u001b[0m\n\u001b[1;32m    249\u001b[0m \u001b[0;34m\u001b[0m\u001b[0m\n\u001b[1;32m    250\u001b[0m         \u001b[0;32mdef\u001b[0m \u001b[0m_get\u001b[0m\u001b[0;34m(\u001b[0m\u001b[0mself\u001b[0m\u001b[0;34m,\u001b[0m \u001b[0;34m*\u001b[0m\u001b[0margs\u001b[0m\u001b[0;34m,\u001b[0m \u001b[0;34m**\u001b[0m\u001b[0mkwargs\u001b[0m\u001b[0;34m)\u001b[0m\u001b[0;34m:\u001b[0m\u001b[0;34m\u001b[0m\u001b[0;34m\u001b[0m\u001b[0m\n\u001b[0;32m--> 251\u001b[0;31m                 \u001b[0;32mreturn\u001b[0m \u001b[0mself\u001b[0m\u001b[0;34m.\u001b[0m\u001b[0m_request\u001b[0m\u001b[0;34m(\u001b[0m\u001b[0;34m'GET'\u001b[0m\u001b[0;34m,\u001b[0m \u001b[0;34m*\u001b[0m\u001b[0margs\u001b[0m\u001b[0;34m,\u001b[0m \u001b[0;34m**\u001b[0m\u001b[0mkwargs\u001b[0m\u001b[0;34m)\u001b[0m\u001b[0;34m\u001b[0m\u001b[0;34m\u001b[0m\u001b[0m\n\u001b[0m\u001b[1;32m    252\u001b[0m \u001b[0;34m\u001b[0m\u001b[0m\n\u001b[1;32m    253\u001b[0m         \u001b[0;32mdef\u001b[0m \u001b[0m_post\u001b[0m\u001b[0;34m(\u001b[0m\u001b[0mself\u001b[0m\u001b[0;34m,\u001b[0m \u001b[0;34m*\u001b[0m\u001b[0margs\u001b[0m\u001b[0;34m,\u001b[0m \u001b[0;34m**\u001b[0m\u001b[0mkwargs\u001b[0m\u001b[0;34m)\u001b[0m\u001b[0;34m:\u001b[0m\u001b[0;34m\u001b[0m\u001b[0;34m\u001b[0m\u001b[0m\n",
            "\u001b[0;32m/usr/local/lib/python3.10/dist-packages/snscrape/base.py\u001b[0m in \u001b[0;36m_request\u001b[0;34m(self, method, url, params, data, headers, timeout, responseOkCallback, allowRedirects, proxies)\u001b[0m\n\u001b[1;32m    245\u001b[0m                         \u001b[0m_logger\u001b[0m\u001b[0;34m.\u001b[0m\u001b[0mfatal\u001b[0m\u001b[0;34m(\u001b[0m\u001b[0mmsg\u001b[0m\u001b[0;34m)\u001b[0m\u001b[0;34m\u001b[0m\u001b[0;34m\u001b[0m\u001b[0m\n\u001b[1;32m    246\u001b[0m                         \u001b[0m_logger\u001b[0m\u001b[0;34m.\u001b[0m\u001b[0mfatal\u001b[0m\u001b[0;34m(\u001b[0m\u001b[0;34mf'Errors: {\", \".join(errors)}'\u001b[0m\u001b[0;34m)\u001b[0m\u001b[0;34m\u001b[0m\u001b[0;34m\u001b[0m\u001b[0m\n\u001b[0;32m--> 247\u001b[0;31m                         \u001b[0;32mraise\u001b[0m \u001b[0mScraperException\u001b[0m\u001b[0;34m(\u001b[0m\u001b[0mmsg\u001b[0m\u001b[0;34m)\u001b[0m\u001b[0;34m\u001b[0m\u001b[0;34m\u001b[0m\u001b[0m\n\u001b[0m\u001b[1;32m    248\u001b[0m                 \u001b[0;32mraise\u001b[0m \u001b[0mRuntimeError\u001b[0m\u001b[0;34m(\u001b[0m\u001b[0;34m'Reached unreachable code'\u001b[0m\u001b[0;34m)\u001b[0m\u001b[0;34m\u001b[0m\u001b[0;34m\u001b[0m\u001b[0m\n\u001b[1;32m    249\u001b[0m \u001b[0;34m\u001b[0m\u001b[0m\n",
            "\u001b[0;31mScraperException\u001b[0m: 4 requests to https://api.twitter.com/2/search/adaptive.json?include_profile_interstitial_type=1&include_blocking=1&include_blocked_by=1&include_followed_by=1&include_want_retweets=1&include_mute_edge=1&include_can_dm=1&include_can_media_tag=1&include_ext_has_nft_avatar=1&include_ext_is_blue_verified=1&include_ext_verified_type=1&skip_status=1&cards_platform=Web-12&include_cards=1&include_ext_alt_text=true&include_ext_limited_action_results=false&include_quote_count=true&include_reply_count=1&tweet_mode=extended&include_ext_collab_control=true&include_ext_views=true&include_entities=true&include_user_entities=true&include_ext_media_color=true&include_ext_media_availability=true&include_ext_sensitive_media_warning=true&include_ext_trusted_friends_metadata=true&send_error_codes=true&simple_quoted_tweet=true&q=%28from%3Aelonmusk%29+until%3A2022-12-15+since%3A2010-01-01&tweet_search_mode=live&count=20&query_source=spelling_expansion_revert_click&pc=1&spelling_corrections=1&include_ext_edit_control=true&ext=mediaStats%2ChighlightedLabel%2ChasNftAvatar%2CvoiceInfo%2Cenrichments%2CsuperFollowMetadata%2CunmentionInfo%2CeditControl%2Ccollab_control%2Cvibe failed, giving up."
          ]
        }
      ]
    },
    {
      "cell_type": "code",
      "source": [
        "df = pd.DataFrame(tweets, columns=['date', 'user', 'tweet', 'likes', 'retweets'] )"
      ],
      "metadata": {
        "id": "mInRY-jU5uFK"
      },
      "execution_count": null,
      "outputs": []
    },
    {
      "cell_type": "markdown",
      "source": [
        "# Sort by likes"
      ],
      "metadata": {
        "id": "LiMt9wE28zmZ"
      }
    },
    {
      "cell_type": "code",
      "source": [
        "df.sort_values(by='likes', ascending=False)"
      ],
      "metadata": {
        "id": "NxqqGkde6dDL",
        "colab": {
          "base_uri": "https://localhost:8080/",
          "height": 763
        },
        "outputId": "5b487798-ff8c-4316-8379-4688f2ac1156"
      },
      "execution_count": null,
      "outputs": [
        {
          "output_type": "execute_result",
          "data": {
            "text/plain": [
              "                        date      user  \\\n",
              "95 2022-12-12 19:46:04+00:00  elonmusk   \n",
              "80 2022-12-13 01:15:20+00:00  elonmusk   \n",
              "96 2022-12-12 19:36:52+00:00  elonmusk   \n",
              "45 2022-12-13 23:21:58+00:00  elonmusk   \n",
              "27 2022-12-14 04:19:49+00:00  elonmusk   \n",
              "..                       ...       ...   \n",
              "12 2022-12-14 10:12:55+00:00  elonmusk   \n",
              "40 2022-12-14 03:13:27+00:00  elonmusk   \n",
              "54 2022-12-13 21:11:06+00:00  elonmusk   \n",
              "48 2022-12-13 23:10:28+00:00  elonmusk   \n",
              "16 2022-12-14 08:26:26+00:00  elonmusk   \n",
              "\n",
              "                                                                                                                                                                                                             tweet  \\\n",
              "95                                                                                                                                                                                       😛 https://t.co/X8Y1YEuS3C   \n",
              "80                                                                                                                                                                                                        Follow 🐰   \n",
              "96        Under pressure from hundreds of activist employees, Twitter deplatforms Trump, a sitting US President, even though they themselves acknowledge that he didn’t violate the rules: https://t.co/60PplztV4k   \n",
              "45                                                                                       At risk of stating obvious, beware of debt in turbulent macroeconomic conditions, especially when Fed keeps raising rates   \n",
              "27                                                                                   You can play Cyberpunk, Elden Ring and 1000s of other games in your *car* with an epic sound system!! https://t.co/F25Qu6HJ63   \n",
              "..                                                                                                                                                                                                             ...   \n",
              "12                                                                                                                                   @SirGrantFleming @conexaopolitica @VitalikButerin Agreed, I thought the same!   \n",
              "40                                                                                                                                                                  @babylonmovie Basically, a Twitter documentary   \n",
              "54                                                                                                                                                                   @wintonARK @NewsNancy9 @TomFitton Good thread   \n",
              "48  @HarryStebbings Main reason is that the Starlink value proposition is “better Internet for less money” for most people in low population density areas, which is compelling no matter how the economy is doing   \n",
              "16                                                                                                                                                                              @naturalzzz @EMTSLA @jcn92977110 🎯   \n",
              "\n",
              "     likes  retweets  \n",
              "95  763544     59592  \n",
              "80  437057     38047  \n",
              "96  345101     75665  \n",
              "45  267012     27276  \n",
              "27  219874     16746  \n",
              "..     ...       ...  \n",
              "12    2862       119  \n",
              "40    2429       180  \n",
              "54    2321       161  \n",
              "48    2237       190  \n",
              "16    1807       106  \n",
              "\n",
              "[100 rows x 5 columns]"
            ],
            "text/html": [
              "\n",
              "  <div id=\"df-9e7022bb-b00f-4264-b866-b6214e8872e6\">\n",
              "    <div class=\"colab-df-container\">\n",
              "      <div>\n",
              "<style scoped>\n",
              "    .dataframe tbody tr th:only-of-type {\n",
              "        vertical-align: middle;\n",
              "    }\n",
              "\n",
              "    .dataframe tbody tr th {\n",
              "        vertical-align: top;\n",
              "    }\n",
              "\n",
              "    .dataframe thead th {\n",
              "        text-align: right;\n",
              "    }\n",
              "</style>\n",
              "<table border=\"1\" class=\"dataframe\">\n",
              "  <thead>\n",
              "    <tr style=\"text-align: right;\">\n",
              "      <th></th>\n",
              "      <th>date</th>\n",
              "      <th>user</th>\n",
              "      <th>tweet</th>\n",
              "      <th>likes</th>\n",
              "      <th>retweets</th>\n",
              "    </tr>\n",
              "  </thead>\n",
              "  <tbody>\n",
              "    <tr>\n",
              "      <th>95</th>\n",
              "      <td>2022-12-12 19:46:04+00:00</td>\n",
              "      <td>elonmusk</td>\n",
              "      <td>😛 https://t.co/X8Y1YEuS3C</td>\n",
              "      <td>763544</td>\n",
              "      <td>59592</td>\n",
              "    </tr>\n",
              "    <tr>\n",
              "      <th>80</th>\n",
              "      <td>2022-12-13 01:15:20+00:00</td>\n",
              "      <td>elonmusk</td>\n",
              "      <td>Follow 🐰</td>\n",
              "      <td>437057</td>\n",
              "      <td>38047</td>\n",
              "    </tr>\n",
              "    <tr>\n",
              "      <th>96</th>\n",
              "      <td>2022-12-12 19:36:52+00:00</td>\n",
              "      <td>elonmusk</td>\n",
              "      <td>Under pressure from hundreds of activist employees, Twitter deplatforms Trump, a sitting US President, even though they themselves acknowledge that he didn’t violate the rules: https://t.co/60PplztV4k</td>\n",
              "      <td>345101</td>\n",
              "      <td>75665</td>\n",
              "    </tr>\n",
              "    <tr>\n",
              "      <th>45</th>\n",
              "      <td>2022-12-13 23:21:58+00:00</td>\n",
              "      <td>elonmusk</td>\n",
              "      <td>At risk of stating obvious, beware of debt in turbulent macroeconomic conditions, especially when Fed keeps raising rates</td>\n",
              "      <td>267012</td>\n",
              "      <td>27276</td>\n",
              "    </tr>\n",
              "    <tr>\n",
              "      <th>27</th>\n",
              "      <td>2022-12-14 04:19:49+00:00</td>\n",
              "      <td>elonmusk</td>\n",
              "      <td>You can play Cyberpunk, Elden Ring and 1000s of other games in your *car* with an epic sound system!! https://t.co/F25Qu6HJ63</td>\n",
              "      <td>219874</td>\n",
              "      <td>16746</td>\n",
              "    </tr>\n",
              "    <tr>\n",
              "      <th>...</th>\n",
              "      <td>...</td>\n",
              "      <td>...</td>\n",
              "      <td>...</td>\n",
              "      <td>...</td>\n",
              "      <td>...</td>\n",
              "    </tr>\n",
              "    <tr>\n",
              "      <th>12</th>\n",
              "      <td>2022-12-14 10:12:55+00:00</td>\n",
              "      <td>elonmusk</td>\n",
              "      <td>@SirGrantFleming @conexaopolitica @VitalikButerin Agreed, I thought the same!</td>\n",
              "      <td>2862</td>\n",
              "      <td>119</td>\n",
              "    </tr>\n",
              "    <tr>\n",
              "      <th>40</th>\n",
              "      <td>2022-12-14 03:13:27+00:00</td>\n",
              "      <td>elonmusk</td>\n",
              "      <td>@babylonmovie Basically, a Twitter documentary</td>\n",
              "      <td>2429</td>\n",
              "      <td>180</td>\n",
              "    </tr>\n",
              "    <tr>\n",
              "      <th>54</th>\n",
              "      <td>2022-12-13 21:11:06+00:00</td>\n",
              "      <td>elonmusk</td>\n",
              "      <td>@wintonARK @NewsNancy9 @TomFitton Good thread</td>\n",
              "      <td>2321</td>\n",
              "      <td>161</td>\n",
              "    </tr>\n",
              "    <tr>\n",
              "      <th>48</th>\n",
              "      <td>2022-12-13 23:10:28+00:00</td>\n",
              "      <td>elonmusk</td>\n",
              "      <td>@HarryStebbings Main reason is that the Starlink value proposition is “better Internet for less money” for most people in low population density areas, which is compelling no matter how the economy is doing</td>\n",
              "      <td>2237</td>\n",
              "      <td>190</td>\n",
              "    </tr>\n",
              "    <tr>\n",
              "      <th>16</th>\n",
              "      <td>2022-12-14 08:26:26+00:00</td>\n",
              "      <td>elonmusk</td>\n",
              "      <td>@naturalzzz @EMTSLA @jcn92977110 🎯</td>\n",
              "      <td>1807</td>\n",
              "      <td>106</td>\n",
              "    </tr>\n",
              "  </tbody>\n",
              "</table>\n",
              "<p>100 rows × 5 columns</p>\n",
              "</div>\n",
              "      <button class=\"colab-df-convert\" onclick=\"convertToInteractive('df-9e7022bb-b00f-4264-b866-b6214e8872e6')\"\n",
              "              title=\"Convert this dataframe to an interactive table.\"\n",
              "              style=\"display:none;\">\n",
              "        \n",
              "  <svg xmlns=\"http://www.w3.org/2000/svg\" height=\"24px\"viewBox=\"0 0 24 24\"\n",
              "       width=\"24px\">\n",
              "    <path d=\"M0 0h24v24H0V0z\" fill=\"none\"/>\n",
              "    <path d=\"M18.56 5.44l.94 2.06.94-2.06 2.06-.94-2.06-.94-.94-2.06-.94 2.06-2.06.94zm-11 1L8.5 8.5l.94-2.06 2.06-.94-2.06-.94L8.5 2.5l-.94 2.06-2.06.94zm10 10l.94 2.06.94-2.06 2.06-.94-2.06-.94-.94-2.06-.94 2.06-2.06.94z\"/><path d=\"M17.41 7.96l-1.37-1.37c-.4-.4-.92-.59-1.43-.59-.52 0-1.04.2-1.43.59L10.3 9.45l-7.72 7.72c-.78.78-.78 2.05 0 2.83L4 21.41c.39.39.9.59 1.41.59.51 0 1.02-.2 1.41-.59l7.78-7.78 2.81-2.81c.8-.78.8-2.07 0-2.86zM5.41 20L4 18.59l7.72-7.72 1.47 1.35L5.41 20z\"/>\n",
              "  </svg>\n",
              "      </button>\n",
              "      \n",
              "  <style>\n",
              "    .colab-df-container {\n",
              "      display:flex;\n",
              "      flex-wrap:wrap;\n",
              "      gap: 12px;\n",
              "    }\n",
              "\n",
              "    .colab-df-convert {\n",
              "      background-color: #E8F0FE;\n",
              "      border: none;\n",
              "      border-radius: 50%;\n",
              "      cursor: pointer;\n",
              "      display: none;\n",
              "      fill: #1967D2;\n",
              "      height: 32px;\n",
              "      padding: 0 0 0 0;\n",
              "      width: 32px;\n",
              "    }\n",
              "\n",
              "    .colab-df-convert:hover {\n",
              "      background-color: #E2EBFA;\n",
              "      box-shadow: 0px 1px 2px rgba(60, 64, 67, 0.3), 0px 1px 3px 1px rgba(60, 64, 67, 0.15);\n",
              "      fill: #174EA6;\n",
              "    }\n",
              "\n",
              "    [theme=dark] .colab-df-convert {\n",
              "      background-color: #3B4455;\n",
              "      fill: #D2E3FC;\n",
              "    }\n",
              "\n",
              "    [theme=dark] .colab-df-convert:hover {\n",
              "      background-color: #434B5C;\n",
              "      box-shadow: 0px 1px 3px 1px rgba(0, 0, 0, 0.15);\n",
              "      filter: drop-shadow(0px 1px 2px rgba(0, 0, 0, 0.3));\n",
              "      fill: #FFFFFF;\n",
              "    }\n",
              "  </style>\n",
              "\n",
              "      <script>\n",
              "        const buttonEl =\n",
              "          document.querySelector('#df-9e7022bb-b00f-4264-b866-b6214e8872e6 button.colab-df-convert');\n",
              "        buttonEl.style.display =\n",
              "          google.colab.kernel.accessAllowed ? 'block' : 'none';\n",
              "\n",
              "        async function convertToInteractive(key) {\n",
              "          const element = document.querySelector('#df-9e7022bb-b00f-4264-b866-b6214e8872e6');\n",
              "          const dataTable =\n",
              "            await google.colab.kernel.invokeFunction('convertToInteractive',\n",
              "                                                     [key], {});\n",
              "          if (!dataTable) return;\n",
              "\n",
              "          const docLinkHtml = 'Like what you see? Visit the ' +\n",
              "            '<a target=\"_blank\" href=https://colab.research.google.com/notebooks/data_table.ipynb>data table notebook</a>'\n",
              "            + ' to learn more about interactive tables.';\n",
              "          element.innerHTML = '';\n",
              "          dataTable['output_type'] = 'display_data';\n",
              "          await google.colab.output.renderOutput(dataTable, element);\n",
              "          const docLink = document.createElement('div');\n",
              "          docLink.innerHTML = docLinkHtml;\n",
              "          element.appendChild(docLink);\n",
              "        }\n",
              "      </script>\n",
              "    </div>\n",
              "  </div>\n",
              "  "
            ]
          },
          "metadata": {},
          "execution_count": 10
        }
      ]
    },
    {
      "cell_type": "markdown",
      "source": [
        "### List of all people mentioned by username"
      ],
      "metadata": {
        "id": "v_aKxEhM9YTl"
      }
    },
    {
      "cell_type": "code",
      "source": [
        "mentions_list = [k for k in flat_list if '@' in k]"
      ],
      "metadata": {
        "id": "o1EgDZ2n9wjg"
      },
      "execution_count": null,
      "outputs": []
    },
    {
      "cell_type": "code",
      "source": [
        "mentions_list = [f'{x[1:]}' for x in mentions_list]"
      ],
      "metadata": {
        "id": "8wKOUGtN9zq1"
      },
      "execution_count": null,
      "outputs": []
    },
    {
      "cell_type": "code",
      "source": [
        "mentions_dict = {}"
      ],
      "metadata": {
        "id": "6V9tSoqTBQtJ"
      },
      "execution_count": null,
      "outputs": []
    },
    {
      "cell_type": "code",
      "source": [
        "for person in mentions_list:\n",
        "  if person in mentions_dict.keys():\n",
        "    mentions_dict[person] += 1\n",
        "  else:\n",
        "    mentions_dict[person] = 1"
      ],
      "metadata": {
        "id": "Kfh8VtbIBv4E"
      },
      "execution_count": null,
      "outputs": []
    },
    {
      "cell_type": "code",
      "source": [
        "mentions_df = pd.DataFrame.from_dict(mentions_dict, orient='index', columns=['mentions'])"
      ],
      "metadata": {
        "id": "5FuRZ6J3CJEG"
      },
      "execution_count": null,
      "outputs": []
    },
    {
      "cell_type": "code",
      "source": [
        "mentions_df['name'] = mentions_df.index\n",
        "mentions_df = mentions_df.reset_index(drop=True)\n",
        "mentions_df = mentions_df[['name', 'mentions']]"
      ],
      "metadata": {
        "id": "8JFjwy5CCQ0d"
      },
      "execution_count": null,
      "outputs": []
    },
    {
      "cell_type": "code",
      "source": [
        "mentions_df.sort_values(by='mentions', ascending=False)"
      ],
      "metadata": {
        "colab": {
          "base_uri": "https://localhost:8080/",
          "height": 424
        },
        "id": "e6eJTYorChi8",
        "outputId": "fa5a31f4-3109-4aaf-b1e5-a4381d082643"
      },
      "execution_count": null,
      "outputs": [
        {
          "output_type": "execute_result",
          "data": {
            "text/plain": [
              "              name  mentions\n",
              "22        BillyM2k        17\n",
              "17   WholeMarsBlog         4\n",
              "15  VitalikButerin         4\n",
              "12      hodgetwins         4\n",
              "62         RVAwonk         3\n",
              "..             ...       ...\n",
              "42       JeffBezos         1\n",
              "43  washingtonpost         1\n",
              "44     WatcherGuru         1\n",
              "45      AndrewYang         1\n",
              "82        catturd2         1\n",
              "\n",
              "[83 rows x 2 columns]"
            ],
            "text/html": [
              "\n",
              "  <div id=\"df-ddba36c6-7dda-4fc4-8a80-839d29f99fd3\">\n",
              "    <div class=\"colab-df-container\">\n",
              "      <div>\n",
              "<style scoped>\n",
              "    .dataframe tbody tr th:only-of-type {\n",
              "        vertical-align: middle;\n",
              "    }\n",
              "\n",
              "    .dataframe tbody tr th {\n",
              "        vertical-align: top;\n",
              "    }\n",
              "\n",
              "    .dataframe thead th {\n",
              "        text-align: right;\n",
              "    }\n",
              "</style>\n",
              "<table border=\"1\" class=\"dataframe\">\n",
              "  <thead>\n",
              "    <tr style=\"text-align: right;\">\n",
              "      <th></th>\n",
              "      <th>name</th>\n",
              "      <th>mentions</th>\n",
              "    </tr>\n",
              "  </thead>\n",
              "  <tbody>\n",
              "    <tr>\n",
              "      <th>22</th>\n",
              "      <td>BillyM2k</td>\n",
              "      <td>17</td>\n",
              "    </tr>\n",
              "    <tr>\n",
              "      <th>17</th>\n",
              "      <td>WholeMarsBlog</td>\n",
              "      <td>4</td>\n",
              "    </tr>\n",
              "    <tr>\n",
              "      <th>15</th>\n",
              "      <td>VitalikButerin</td>\n",
              "      <td>4</td>\n",
              "    </tr>\n",
              "    <tr>\n",
              "      <th>12</th>\n",
              "      <td>hodgetwins</td>\n",
              "      <td>4</td>\n",
              "    </tr>\n",
              "    <tr>\n",
              "      <th>62</th>\n",
              "      <td>RVAwonk</td>\n",
              "      <td>3</td>\n",
              "    </tr>\n",
              "    <tr>\n",
              "      <th>...</th>\n",
              "      <td>...</td>\n",
              "      <td>...</td>\n",
              "    </tr>\n",
              "    <tr>\n",
              "      <th>42</th>\n",
              "      <td>JeffBezos</td>\n",
              "      <td>1</td>\n",
              "    </tr>\n",
              "    <tr>\n",
              "      <th>43</th>\n",
              "      <td>washingtonpost</td>\n",
              "      <td>1</td>\n",
              "    </tr>\n",
              "    <tr>\n",
              "      <th>44</th>\n",
              "      <td>WatcherGuru</td>\n",
              "      <td>1</td>\n",
              "    </tr>\n",
              "    <tr>\n",
              "      <th>45</th>\n",
              "      <td>AndrewYang</td>\n",
              "      <td>1</td>\n",
              "    </tr>\n",
              "    <tr>\n",
              "      <th>82</th>\n",
              "      <td>catturd2</td>\n",
              "      <td>1</td>\n",
              "    </tr>\n",
              "  </tbody>\n",
              "</table>\n",
              "<p>83 rows × 2 columns</p>\n",
              "</div>\n",
              "      <button class=\"colab-df-convert\" onclick=\"convertToInteractive('df-ddba36c6-7dda-4fc4-8a80-839d29f99fd3')\"\n",
              "              title=\"Convert this dataframe to an interactive table.\"\n",
              "              style=\"display:none;\">\n",
              "        \n",
              "  <svg xmlns=\"http://www.w3.org/2000/svg\" height=\"24px\"viewBox=\"0 0 24 24\"\n",
              "       width=\"24px\">\n",
              "    <path d=\"M0 0h24v24H0V0z\" fill=\"none\"/>\n",
              "    <path d=\"M18.56 5.44l.94 2.06.94-2.06 2.06-.94-2.06-.94-.94-2.06-.94 2.06-2.06.94zm-11 1L8.5 8.5l.94-2.06 2.06-.94-2.06-.94L8.5 2.5l-.94 2.06-2.06.94zm10 10l.94 2.06.94-2.06 2.06-.94-2.06-.94-.94-2.06-.94 2.06-2.06.94z\"/><path d=\"M17.41 7.96l-1.37-1.37c-.4-.4-.92-.59-1.43-.59-.52 0-1.04.2-1.43.59L10.3 9.45l-7.72 7.72c-.78.78-.78 2.05 0 2.83L4 21.41c.39.39.9.59 1.41.59.51 0 1.02-.2 1.41-.59l7.78-7.78 2.81-2.81c.8-.78.8-2.07 0-2.86zM5.41 20L4 18.59l7.72-7.72 1.47 1.35L5.41 20z\"/>\n",
              "  </svg>\n",
              "      </button>\n",
              "      \n",
              "  <style>\n",
              "    .colab-df-container {\n",
              "      display:flex;\n",
              "      flex-wrap:wrap;\n",
              "      gap: 12px;\n",
              "    }\n",
              "\n",
              "    .colab-df-convert {\n",
              "      background-color: #E8F0FE;\n",
              "      border: none;\n",
              "      border-radius: 50%;\n",
              "      cursor: pointer;\n",
              "      display: none;\n",
              "      fill: #1967D2;\n",
              "      height: 32px;\n",
              "      padding: 0 0 0 0;\n",
              "      width: 32px;\n",
              "    }\n",
              "\n",
              "    .colab-df-convert:hover {\n",
              "      background-color: #E2EBFA;\n",
              "      box-shadow: 0px 1px 2px rgba(60, 64, 67, 0.3), 0px 1px 3px 1px rgba(60, 64, 67, 0.15);\n",
              "      fill: #174EA6;\n",
              "    }\n",
              "\n",
              "    [theme=dark] .colab-df-convert {\n",
              "      background-color: #3B4455;\n",
              "      fill: #D2E3FC;\n",
              "    }\n",
              "\n",
              "    [theme=dark] .colab-df-convert:hover {\n",
              "      background-color: #434B5C;\n",
              "      box-shadow: 0px 1px 3px 1px rgba(0, 0, 0, 0.15);\n",
              "      filter: drop-shadow(0px 1px 2px rgba(0, 0, 0, 0.3));\n",
              "      fill: #FFFFFF;\n",
              "    }\n",
              "  </style>\n",
              "\n",
              "      <script>\n",
              "        const buttonEl =\n",
              "          document.querySelector('#df-ddba36c6-7dda-4fc4-8a80-839d29f99fd3 button.colab-df-convert');\n",
              "        buttonEl.style.display =\n",
              "          google.colab.kernel.accessAllowed ? 'block' : 'none';\n",
              "\n",
              "        async function convertToInteractive(key) {\n",
              "          const element = document.querySelector('#df-ddba36c6-7dda-4fc4-8a80-839d29f99fd3');\n",
              "          const dataTable =\n",
              "            await google.colab.kernel.invokeFunction('convertToInteractive',\n",
              "                                                     [key], {});\n",
              "          if (!dataTable) return;\n",
              "\n",
              "          const docLinkHtml = 'Like what you see? Visit the ' +\n",
              "            '<a target=\"_blank\" href=https://colab.research.google.com/notebooks/data_table.ipynb>data table notebook</a>'\n",
              "            + ' to learn more about interactive tables.';\n",
              "          element.innerHTML = '';\n",
              "          dataTable['output_type'] = 'display_data';\n",
              "          await google.colab.output.renderOutput(dataTable, element);\n",
              "          const docLink = document.createElement('div');\n",
              "          docLink.innerHTML = docLinkHtml;\n",
              "          element.appendChild(docLink);\n",
              "        }\n",
              "      </script>\n",
              "    </div>\n",
              "  </div>\n",
              "  "
            ]
          },
          "metadata": {},
          "execution_count": 21
        }
      ]
    },
    {
      "cell_type": "markdown",
      "source": [
        "# make all words in list lowercase and remove stop words"
      ],
      "metadata": {
        "id": "S_Lam239C4vz"
      }
    },
    {
      "cell_type": "code",
      "source": [
        "flat_list = [word.lower() for word in flat_list]\n"
      ],
      "metadata": {
        "id": "sY_vyQ7JD2jt"
      },
      "execution_count": null,
      "outputs": []
    },
    {
      "cell_type": "code",
      "source": [
        "stops = stopwords.words('english')"
      ],
      "metadata": {
        "id": "3iD-j3nXF_wS"
      },
      "execution_count": null,
      "outputs": []
    },
    {
      "cell_type": "code",
      "source": [
        "stops.append('&amp;')"
      ],
      "metadata": {
        "id": "9kw1ZtslIkrb"
      },
      "execution_count": null,
      "outputs": []
    },
    {
      "cell_type": "code",
      "source": [
        "stops.append('it’s')"
      ],
      "metadata": {
        "id": "VACflUT6JXsd"
      },
      "execution_count": null,
      "outputs": []
    },
    {
      "cell_type": "code",
      "source": [
        "flat_list = [word for word in flat_list if word not in stops]"
      ],
      "metadata": {
        "id": "Z__Wn51yGHmx"
      },
      "execution_count": null,
      "outputs": []
    },
    {
      "cell_type": "code",
      "source": [
        "words = pd.Series(flat_list)"
      ],
      "metadata": {
        "id": "gJiOuGuSHjOO"
      },
      "execution_count": null,
      "outputs": []
    },
    {
      "cell_type": "code",
      "source": [
        "word_counts = words.value_counts()"
      ],
      "metadata": {
        "id": "7RHGcYpBIDKd"
      },
      "execution_count": null,
      "outputs": []
    },
    {
      "cell_type": "code",
      "source": [
        "temp_list_mentions = [k for k in flat_list if '@' in k]\n",
        "\n",
        "word_count_wo_mentions = []\n",
        "\n",
        "for word in words:\n",
        "  if word in temp_list_mentions:\n",
        "    pass\n",
        "  else:\n",
        "    word_count_wo_mentions.append(word)\n",
        ""
      ],
      "metadata": {
        "id": "lYvcyzWfIdZE"
      },
      "execution_count": null,
      "outputs": []
    },
    {
      "cell_type": "code",
      "source": [
        "word_count_wo_mentions = pd.Series(word_count_wo_mentions)"
      ],
      "metadata": {
        "id": "OwKPMk7mIPOM"
      },
      "execution_count": null,
      "outputs": []
    },
    {
      "cell_type": "code",
      "source": [
        "word_count_wo_mentions.value_counts()"
      ],
      "metadata": {
        "id": "0LDqMUiEIP9S",
        "colab": {
          "base_uri": "https://localhost:8080/"
        },
        "outputId": "4bc6ed7a-2b2a-4932-ec03-06264c23ff78"
      },
      "execution_count": null,
      "outputs": [
        {
          "output_type": "execute_result",
          "data": {
            "text/plain": [
              "twitter     6\n",
              "wow         4\n",
              "exactly     3\n",
              "think       3\n",
              "lol         3\n",
              "           ..\n",
              "obvious,    1\n",
              "stating     1\n",
              "risk        1\n",
              "benefit     1\n",
              "glass       1\n",
              "Length: 347, dtype: int64"
            ]
          },
          "metadata": {},
          "execution_count": 31
        }
      ]
    },
    {
      "cell_type": "markdown",
      "source": [
        "# Vader Sentiment Analysis"
      ],
      "metadata": {
        "id": "tnAu-U1fx34f"
      }
    },
    {
      "cell_type": "code",
      "source": [
        "from nltk.sentiment.vader import SentimentIntensityAnalyzer"
      ],
      "metadata": {
        "id": "-QmioFtaOwjy"
      },
      "execution_count": null,
      "outputs": []
    },
    {
      "cell_type": "code",
      "source": [
        "sendf = df[['likes', 'tweet']]\n",
        "sendf.reset_index(inplace=True, drop=True)"
      ],
      "metadata": {
        "id": "4mFxCo2ZO2KM"
      },
      "execution_count": null,
      "outputs": []
    },
    {
      "cell_type": "code",
      "source": [
        "sid = SentimentIntensityAnalyzer()\n",
        "sendf[['neg', 'neu', 'pos', 'compund']] = sendf['tweet'].apply(sid.polarity_scores).apply(pd.Series)"
      ],
      "metadata": {
        "colab": {
          "base_uri": "https://localhost:8080/"
        },
        "id": "9eNWAIcdO7U0",
        "outputId": "9cc568b8-73d1-4f34-e471-847190c1ee81"
      },
      "execution_count": null,
      "outputs": [
        {
          "output_type": "stream",
          "name": "stderr",
          "text": [
            "/usr/local/lib/python3.8/dist-packages/pandas/core/frame.py:3641: SettingWithCopyWarning: \n",
            "A value is trying to be set on a copy of a slice from a DataFrame.\n",
            "Try using .loc[row_indexer,col_indexer] = value instead\n",
            "\n",
            "See the caveats in the documentation: https://pandas.pydata.org/pandas-docs/stable/user_guide/indexing.html#returning-a-view-versus-a-copy\n",
            "  self[k1] = value[k2]\n"
          ]
        }
      ]
    },
    {
      "cell_type": "code",
      "source": [
        "vader_df = sendf.sort_values(by='likes', ascending=False).reset_index()"
      ],
      "metadata": {
        "id": "3yLSwdJsPuzz"
      },
      "execution_count": null,
      "outputs": []
    },
    {
      "cell_type": "code",
      "source": [
        "## sentiment of top n tweets\n",
        "n = 1000"
      ],
      "metadata": {
        "id": "8h-zqmLdVt6o"
      },
      "execution_count": null,
      "outputs": []
    },
    {
      "cell_type": "code",
      "source": [
        "fig, ax = plt.subplots(figsize=(16,12))\n",
        "plt.rc('font', size=16)\n",
        "plt.rc('axes', labelsize=16)\n",
        "\n",
        "p1= ax.bar(\n",
        "    x = vader_df[0:n].index,\n",
        "    height = vader_df[0:n]['compund'],\n",
        "    data=vader_df[0:n]\n",
        ")\n",
        "\n",
        "ax.set_title('Sentiment of tweet compared to amount of likes')\n",
        "ax.set_ylabel('Sentiment of tweet')\n",
        "ax.set_xlabel('Popularity of tweet(likes in descending order)')\n",
        "\n",
        "#ax.bar_label(p1, label_type='edge')\n",
        "\n",
        "plt.text(0,-0.75, f'% with pos sentiment: {len(vader_df[0:n].loc[vader_df[0:n][\"compund\"] > 0]) / n}')\n",
        "plt.text(0,-0.8, f'% with neu sentiment: {len(vader_df[0:n].loc[vader_df[0:n][\"compund\"] == 0]) / n}')\n",
        "plt.text(0,-0.85, f'% with neg sentiment: {len(vader_df[0:n].loc[vader_df[0:n][\"compund\"] < 0]) / n}')\n",
        "\n",
        "\n",
        "\n",
        "plt.show()\n"
      ],
      "metadata": {
        "colab": {
          "base_uri": "https://localhost:8080/",
          "height": 559
        },
        "id": "OFrRWzwNRaJN",
        "outputId": "54781d7b-d8ad-4319-a577-051b2348197a"
      },
      "execution_count": null,
      "outputs": [
        {
          "output_type": "display_data",
          "data": {
            "text/plain": [
              "<Figure size 1152x864 with 1 Axes>"
            ],
            "image/png": "[encoded data removed]"
          },
          "metadata": {
            "needs_background": "light"
          }
        }
      ]
    },
    {
      "cell_type": "markdown",
      "source": [
        "# Roberta sentiment analysis"
      ],
      "metadata": {
        "id": "St7tdaPyLupr"
      }
    },
    {
      "cell_type": "code",
      "source": [
        "!pip install transformers"
      ],
      "metadata": {
        "id": "ZXS8Up55MDz7"
      },
      "execution_count": null,
      "outputs": []
    },
    {
      "cell_type": "code",
      "source": [
        "from transformers import AutoTokenizer\n",
        "from transformers import AutoModelForSequenceClassification\n",
        "from scipy.special import softmax"
      ],
      "metadata": {
        "id": "_flVlcAvLuff"
      },
      "execution_count": null,
      "outputs": []
    },
    {
      "cell_type": "code",
      "source": [
        "df"
      ],
      "metadata": {
        "id": "oqbL5XQCLzEN"
      },
      "execution_count": null,
      "outputs": []
    },
    {
      "cell_type": "code",
      "source": [],
      "metadata": {
        "id": "7h61TMZKLzCG"
      },
      "execution_count": null,
      "outputs": []
    },
    {
      "cell_type": "code",
      "source": [],
      "metadata": {
        "id": "caZK0sWjLzAA"
      },
      "execution_count": null,
      "outputs": []
    },
    {
      "cell_type": "code",
      "source": [],
      "metadata": {
        "id": "ZIeZkEv8Ly96"
      },
      "execution_count": null,
      "outputs": []
    },
    {
      "cell_type": "markdown",
      "source": [
        "# tweets of top accounts"
      ],
      "metadata": {
        "id": "x3HjmiOP2sn0"
      }
    },
    {
      "cell_type": "code",
      "source": [
        "top_users = ['BarackObama', 'elonmusk', 'justinbieber', 'katyperry', 'rihanna', 'Cristiano', 'taylorswift13', 'narendramodi', 'ladygaga']"
      ],
      "metadata": {
        "id": "1AnvmfOd2zOU"
      },
      "execution_count": null,
      "outputs": []
    },
    {
      "cell_type": "code",
      "source": [
        "for user in top_users:\n",
        "  print(user)"
      ],
      "metadata": {
        "colab": {
          "base_uri": "https://localhost:8080/"
        },
        "id": "sbBtsJPN4Gbi",
        "outputId": "b4dbddc0-2baf-46a4-adec-a41082a4d2b6"
      },
      "execution_count": null,
      "outputs": [
        {
          "output_type": "stream",
          "name": "stdout",
          "text": [
            "BarackObama\n",
            "elonmusk\n",
            "justinbieber\n",
            "katyperry\n",
            "rihanna\n",
            "Cristiano\n",
            "taylorswift13\n",
            "narendramodi\n",
            "ladygaga\n"
          ]
        }
      ]
    },
    {
      "cell_type": "code",
      "source": [
        "tweets = []\n",
        "\n",
        "for user in top_users:\n",
        "  query = f\"(from:{user}) until:2022-12-15 since:2010-01-01\"\n",
        "  limit = 100\n",
        "  temp_tweets = []\n",
        "\n",
        "  for tweet in sntwitter.TwitterSearchScraper(query).get_items():\n",
        "    if len(temp_tweets) == limit:\n",
        "      break\n",
        "    else:\n",
        "      temp_tweets.append([tweet.date, tweet.username, tweet.content, tweet.likeCount, tweet.retweetCount])\n",
        "      tweets.append([tweet.date, tweet.username, tweet.content, tweet.likeCount, tweet.retweetCount])\n",
        "\n",
        "\n"
      ],
      "metadata": {
        "colab": {
          "base_uri": "https://localhost:8080/"
        },
        "id": "QUK7k9782vJ2",
        "outputId": "7b8f7644-263b-46f0-d3c2-cabb554710f1"
      },
      "execution_count": null,
      "outputs": [
        {
          "output_type": "stream",
          "name": "stderr",
          "text": [
            "<ipython-input-25-51066972098b>:12: FutureWarning: username is deprecated, use user.username instead\n",
            "  temp_tweets.append([tweet.date, tweet.username, tweet.content, tweet.likeCount, tweet.retweetCount])\n",
            "<ipython-input-25-51066972098b>:13: FutureWarning: username is deprecated, use user.username instead\n",
            "  tweets.append([tweet.date, tweet.username, tweet.content, tweet.likeCount, tweet.retweetCount])\n"
          ]
        }
      ]
    },
    {
      "cell_type": "code",
      "source": [
        "df = pd.DataFrame(tweets, columns=['date', 'user', 'tweet', 'likes', 'retweets'])"
      ],
      "metadata": {
        "id": "j9TYmHx72zkN"
      },
      "execution_count": null,
      "outputs": []
    },
    {
      "cell_type": "code",
      "source": [
        "df.sort_values(by='likes', ascending=False)"
      ],
      "metadata": {
        "id": "1_wsjVQd3hVf"
      },
      "execution_count": null,
      "outputs": []
    },
    {
      "cell_type": "code",
      "source": [
        "df['user'].value_counts()"
      ],
      "metadata": {
        "colab": {
          "base_uri": "https://localhost:8080/"
        },
        "id": "lnhMHcH85KXT",
        "outputId": "031e118d-fd5a-4ca3-b709-58f9e4004ff5"
      },
      "execution_count": null,
      "outputs": [
        {
          "output_type": "execute_result",
          "data": {
            "text/plain": [
              "BarackObama      100\n",
              "elonmusk         100\n",
              "justinbieber     100\n",
              "katyperry        100\n",
              "rihanna          100\n",
              "Cristiano        100\n",
              "taylorswift13    100\n",
              "narendramodi     100\n",
              "ladygaga         100\n",
              "Name: user, dtype: int64"
            ]
          },
          "metadata": {},
          "execution_count": 29
        }
      ]
    },
    {
      "cell_type": "markdown",
      "source": [
        "sentiment of top accounts"
      ],
      "metadata": {
        "id": "HldZ-P_Z5MuX"
      }
    },
    {
      "cell_type": "code",
      "source": [
        "from nltk.sentiment.vader import SentimentIntensityAnalyzer"
      ],
      "metadata": {
        "id": "3zsbyYpYBzKo"
      },
      "execution_count": null,
      "outputs": []
    },
    {
      "cell_type": "code",
      "source": [
        "df_sen = df[['user','likes', 'tweet']]\n",
        "df_sen.reset_index(inplace=True, drop=True)"
      ],
      "metadata": {
        "id": "FSghSxb0CMDK"
      },
      "execution_count": null,
      "outputs": []
    },
    {
      "cell_type": "code",
      "source": [
        "sid = SentimentIntensityAnalyzer()\n",
        "df_sen[['neg', 'neu', 'pos', 'compund']] = df_sen['tweet'].apply(sid.polarity_scores).apply(pd.Series)"
      ],
      "metadata": {
        "colab": {
          "base_uri": "https://localhost:8080/"
        },
        "id": "A8UPJJ4fCVOF",
        "outputId": "01839271-e99d-405b-bbb8-c1a4a7283480"
      },
      "execution_count": null,
      "outputs": [
        {
          "output_type": "stream",
          "name": "stderr",
          "text": [
            "/usr/local/lib/python3.8/dist-packages/pandas/core/frame.py:3641: SettingWithCopyWarning: \n",
            "A value is trying to be set on a copy of a slice from a DataFrame.\n",
            "Try using .loc[row_indexer,col_indexer] = value instead\n",
            "\n",
            "See the caveats in the documentation: https://pandas.pydata.org/pandas-docs/stable/user_guide/indexing.html#returning-a-view-versus-a-copy\n",
            "  self[k1] = value[k2]\n"
          ]
        }
      ]
    },
    {
      "cell_type": "code",
      "source": [
        "df_sen = df_sen.sort_values(by='likes', ascending=False).reset_index()"
      ],
      "metadata": {
        "id": "epAy5C9fCV8f"
      },
      "execution_count": null,
      "outputs": []
    },
    {
      "cell_type": "code",
      "source": [
        "df_sen"
      ],
      "metadata": {
        "colab": {
          "base_uri": "https://localhost:8080/",
          "height": 704
        },
        "id": "1eEOWhDJGGGQ",
        "outputId": "7c76855c-0b64-48f3-a53e-04b3fddcc359"
      },
      "execution_count": null,
      "outputs": [
        {
          "output_type": "execute_result",
          "data": {
            "text/plain": [
              "     index       user    likes  \\\n",
              "0      573  Cristiano  2009310   \n",
              "1      426    rihanna  1904337   \n",
              "2      576  Cristiano  1901437   \n",
              "3      513  Cristiano  1751626   \n",
              "4      575  Cristiano  1657382   \n",
              "..     ...        ...      ...   \n",
              "895    880   ladygaga      905   \n",
              "896    885   ladygaga      781   \n",
              "897    884   ladygaga      753   \n",
              "898    816   ladygaga      574   \n",
              "899    823   ladygaga      549   \n",
              "\n",
              "                                                                                                                                         tweet  \\\n",
              "0                                                                                                    Forever Love…❤️🙏🏽 https://t.co/x18W34rYRM   \n",
              "1                                                                                                                    . https://t.co/7oCnFsZH5U   \n",
              "2                                                                                                                      https://t.co/vRNVCoegOW   \n",
              "3    Victory is a State of Mind. A long tradition of crafting trunks photographed by @annieleibovitz for @LouisVuitton https://t.co/0TsieZP40P   \n",
              "4                                                                                                                   ❤️ https://t.co/HLg0RbI8SM   \n",
              "..                                                                                                                                         ...   \n",
              "895                                    @JAYACTII We aim to be fully carbon neutral by 2027 and are on track as a company to achieve this goal.   \n",
              "896                                      @remdorito @alluregaga2 @hauslabs They are amazing, nourishing and some shades double as a lip stain!   \n",
              "897              @mothamonstah @alluregaga2 @hauslabs And they’re packed with plant squalane and hyaluronic to hydrate lip cheek and eye area!   \n",
              "898                                                                         @judenewland611 @hauslabs Look at that red carpet triclone beauty!   \n",
              "899    @mikeonreplay The talc-free bio-blurring powder is also MY FAVORITE. Doesn’t sting or smell and has a major blurring and setting finish   \n",
              "\n",
              "     neg    neu    pos  compund  \n",
              "0    0.0  1.000  0.000   0.0000  \n",
              "1    0.0  1.000  0.000   0.0000  \n",
              "2    0.0  1.000  0.000   0.0000  \n",
              "3    0.0  1.000  0.000   0.0000  \n",
              "4    0.0  1.000  0.000   0.0000  \n",
              "..   ...    ...    ...      ...  \n",
              "895  0.0  1.000  0.000   0.0000  \n",
              "896  0.0  0.761  0.239   0.6239  \n",
              "897  0.0  1.000  0.000   0.0000  \n",
              "898  0.0  0.662  0.338   0.6239  \n",
              "899  0.0  0.836  0.164   0.5766  \n",
              "\n",
              "[900 rows x 8 columns]"
            ],
            "text/html": [
              "\n",
              "  <div id=\"df-7aea8645-ede0-4257-af29-2cc87e69eefe\">\n",
              "    <div class=\"colab-df-container\">\n",
              "      <div>\n",
              "<style scoped>\n",
              "    .dataframe tbody tr th:only-of-type {\n",
              "        vertical-align: middle;\n",
              "    }\n",
              "\n",
              "    .dataframe tbody tr th {\n",
              "        vertical-align: top;\n",
              "    }\n",
              "\n",
              "    .dataframe thead th {\n",
              "        text-align: right;\n",
              "    }\n",
              "</style>\n",
              "<table border=\"1\" class=\"dataframe\">\n",
              "  <thead>\n",
              "    <tr style=\"text-align: right;\">\n",
              "      <th></th>\n",
              "      <th>index</th>\n",
              "      <th>user</th>\n",
              "      <th>likes</th>\n",
              "      <th>tweet</th>\n",
              "      <th>neg</th>\n",
              "      <th>neu</th>\n",
              "      <th>pos</th>\n",
              "      <th>compund</th>\n",
              "    </tr>\n",
              "  </thead>\n",
              "  <tbody>\n",
              "    <tr>\n",
              "      <th>0</th>\n",
              "      <td>573</td>\n",
              "      <td>Cristiano</td>\n",
              "      <td>2009310</td>\n",
              "      <td>Forever Love…❤️🙏🏽 https://t.co/x18W34rYRM</td>\n",
              "      <td>0.0</td>\n",
              "      <td>1.000</td>\n",
              "      <td>0.000</td>\n",
              "      <td>0.0000</td>\n",
              "    </tr>\n",
              "    <tr>\n",
              "      <th>1</th>\n",
              "      <td>426</td>\n",
              "      <td>rihanna</td>\n",
              "      <td>1904337</td>\n",
              "      <td>. https://t.co/7oCnFsZH5U</td>\n",
              "      <td>0.0</td>\n",
              "      <td>1.000</td>\n",
              "      <td>0.000</td>\n",
              "      <td>0.0000</td>\n",
              "    </tr>\n",
              "    <tr>\n",
              "      <th>2</th>\n",
              "      <td>576</td>\n",
              "      <td>Cristiano</td>\n",
              "      <td>1901437</td>\n",
              "      <td>https://t.co/vRNVCoegOW</td>\n",
              "      <td>0.0</td>\n",
              "      <td>1.000</td>\n",
              "      <td>0.000</td>\n",
              "      <td>0.0000</td>\n",
              "    </tr>\n",
              "    <tr>\n",
              "      <th>3</th>\n",
              "      <td>513</td>\n",
              "      <td>Cristiano</td>\n",
              "      <td>1751626</td>\n",
              "      <td>Victory is a State of Mind. A long tradition of crafting trunks photographed by @annieleibovitz for @LouisVuitton https://t.co/0TsieZP40P</td>\n",
              "      <td>0.0</td>\n",
              "      <td>1.000</td>\n",
              "      <td>0.000</td>\n",
              "      <td>0.0000</td>\n",
              "    </tr>\n",
              "    <tr>\n",
              "      <th>4</th>\n",
              "      <td>575</td>\n",
              "      <td>Cristiano</td>\n",
              "      <td>1657382</td>\n",
              "      <td>❤️ https://t.co/HLg0RbI8SM</td>\n",
              "      <td>0.0</td>\n",
              "      <td>1.000</td>\n",
              "      <td>0.000</td>\n",
              "      <td>0.0000</td>\n",
              "    </tr>\n",
              "    <tr>\n",
              "      <th>...</th>\n",
              "      <td>...</td>\n",
              "      <td>...</td>\n",
              "      <td>...</td>\n",
              "      <td>...</td>\n",
              "      <td>...</td>\n",
              "      <td>...</td>\n",
              "      <td>...</td>\n",
              "      <td>...</td>\n",
              "    </tr>\n",
              "    <tr>\n",
              "      <th>895</th>\n",
              "      <td>880</td>\n",
              "      <td>ladygaga</td>\n",
              "      <td>905</td>\n",
              "      <td>@JAYACTII We aim to be fully carbon neutral by 2027 and are on track as a company to achieve this goal.</td>\n",
              "      <td>0.0</td>\n",
              "      <td>1.000</td>\n",
              "      <td>0.000</td>\n",
              "      <td>0.0000</td>\n",
              "    </tr>\n",
              "    <tr>\n",
              "      <th>896</th>\n",
              "      <td>885</td>\n",
              "      <td>ladygaga</td>\n",
              "      <td>781</td>\n",
              "      <td>@remdorito @alluregaga2 @hauslabs They are amazing, nourishing and some shades double as a lip stain!</td>\n",
              "      <td>0.0</td>\n",
              "      <td>0.761</td>\n",
              "      <td>0.239</td>\n",
              "      <td>0.6239</td>\n",
              "    </tr>\n",
              "    <tr>\n",
              "      <th>897</th>\n",
              "      <td>884</td>\n",
              "      <td>ladygaga</td>\n",
              "      <td>753</td>\n",
              "      <td>@mothamonstah @alluregaga2 @hauslabs And they’re packed with plant squalane and hyaluronic to hydrate lip cheek and eye area!</td>\n",
              "      <td>0.0</td>\n",
              "      <td>1.000</td>\n",
              "      <td>0.000</td>\n",
              "      <td>0.0000</td>\n",
              "    </tr>\n",
              "    <tr>\n",
              "      <th>898</th>\n",
              "      <td>816</td>\n",
              "      <td>ladygaga</td>\n",
              "      <td>574</td>\n",
              "      <td>@judenewland611 @hauslabs Look at that red carpet triclone beauty!</td>\n",
              "      <td>0.0</td>\n",
              "      <td>0.662</td>\n",
              "      <td>0.338</td>\n",
              "      <td>0.6239</td>\n",
              "    </tr>\n",
              "    <tr>\n",
              "      <th>899</th>\n",
              "      <td>823</td>\n",
              "      <td>ladygaga</td>\n",
              "      <td>549</td>\n",
              "      <td>@mikeonreplay The talc-free bio-blurring powder is also MY FAVORITE. Doesn’t sting or smell and has a major blurring and setting finish</td>\n",
              "      <td>0.0</td>\n",
              "      <td>0.836</td>\n",
              "      <td>0.164</td>\n",
              "      <td>0.5766</td>\n",
              "    </tr>\n",
              "  </tbody>\n",
              "</table>\n",
              "<p>900 rows × 8 columns</p>\n",
              "</div>\n",
              "      <button class=\"colab-df-convert\" onclick=\"convertToInteractive('df-7aea8645-ede0-4257-af29-2cc87e69eefe')\"\n",
              "              title=\"Convert this dataframe to an interactive table.\"\n",
              "              style=\"display:none;\">\n",
              "        \n",
              "  <svg xmlns=\"http://www.w3.org/2000/svg\" height=\"24px\"viewBox=\"0 0 24 24\"\n",
              "       width=\"24px\">\n",
              "    <path d=\"M0 0h24v24H0V0z\" fill=\"none\"/>\n",
              "    <path d=\"M18.56 5.44l.94 2.06.94-2.06 2.06-.94-2.06-.94-.94-2.06-.94 2.06-2.06.94zm-11 1L8.5 8.5l.94-2.06 2.06-.94-2.06-.94L8.5 2.5l-.94 2.06-2.06.94zm10 10l.94 2.06.94-2.06 2.06-.94-2.06-.94-.94-2.06-.94 2.06-2.06.94z\"/><path d=\"M17.41 7.96l-1.37-1.37c-.4-.4-.92-.59-1.43-.59-.52 0-1.04.2-1.43.59L10.3 9.45l-7.72 7.72c-.78.78-.78 2.05 0 2.83L4 21.41c.39.39.9.59 1.41.59.51 0 1.02-.2 1.41-.59l7.78-7.78 2.81-2.81c.8-.78.8-2.07 0-2.86zM5.41 20L4 18.59l7.72-7.72 1.47 1.35L5.41 20z\"/>\n",
              "  </svg>\n",
              "      </button>\n",
              "      \n",
              "  <style>\n",
              "    .colab-df-container {\n",
              "      display:flex;\n",
              "      flex-wrap:wrap;\n",
              "      gap: 12px;\n",
              "    }\n",
              "\n",
              "    .colab-df-convert {\n",
              "      background-color: #E8F0FE;\n",
              "      border: none;\n",
              "      border-radius: 50%;\n",
              "      cursor: pointer;\n",
              "      display: none;\n",
              "      fill: #1967D2;\n",
              "      height: 32px;\n",
              "      padding: 0 0 0 0;\n",
              "      width: 32px;\n",
              "    }\n",
              "\n",
              "    .colab-df-convert:hover {\n",
              "      background-color: #E2EBFA;\n",
              "      box-shadow: 0px 1px 2px rgba(60, 64, 67, 0.3), 0px 1px 3px 1px rgba(60, 64, 67, 0.15);\n",
              "      fill: #174EA6;\n",
              "    }\n",
              "\n",
              "    [theme=dark] .colab-df-convert {\n",
              "      background-color: #3B4455;\n",
              "      fill: #D2E3FC;\n",
              "    }\n",
              "\n",
              "    [theme=dark] .colab-df-convert:hover {\n",
              "      background-color: #434B5C;\n",
              "      box-shadow: 0px 1px 3px 1px rgba(0, 0, 0, 0.15);\n",
              "      filter: drop-shadow(0px 1px 2px rgba(0, 0, 0, 0.3));\n",
              "      fill: #FFFFFF;\n",
              "    }\n",
              "  </style>\n",
              "\n",
              "      <script>\n",
              "        const buttonEl =\n",
              "          document.querySelector('#df-7aea8645-ede0-4257-af29-2cc87e69eefe button.colab-df-convert');\n",
              "        buttonEl.style.display =\n",
              "          google.colab.kernel.accessAllowed ? 'block' : 'none';\n",
              "\n",
              "        async function convertToInteractive(key) {\n",
              "          const element = document.querySelector('#df-7aea8645-ede0-4257-af29-2cc87e69eefe');\n",
              "          const dataTable =\n",
              "            await google.colab.kernel.invokeFunction('convertToInteractive',\n",
              "                                                     [key], {});\n",
              "          if (!dataTable) return;\n",
              "\n",
              "          const docLinkHtml = 'Like what you see? Visit the ' +\n",
              "            '<a target=\"_blank\" href=https://colab.research.google.com/notebooks/data_table.ipynb>data table notebook</a>'\n",
              "            + ' to learn more about interactive tables.';\n",
              "          element.innerHTML = '';\n",
              "          dataTable['output_type'] = 'display_data';\n",
              "          await google.colab.output.renderOutput(dataTable, element);\n",
              "          const docLink = document.createElement('div');\n",
              "          docLink.innerHTML = docLinkHtml;\n",
              "          element.appendChild(docLink);\n",
              "        }\n",
              "      </script>\n",
              "    </div>\n",
              "  </div>\n",
              "  "
            ]
          },
          "metadata": {},
          "execution_count": 50
        }
      ]
    },
    {
      "cell_type": "code",
      "source": [
        "## sentiment of top n tweets\n",
        "n = 800\n",
        "## color map\n",
        "c_map = {\n",
        "    'BarackObama' : 'red', 'elonmusk': 'green', 'justinbieber':'blue', 'katyperry' : 'yellow', 'rihanna':'brown', 'Cristiano':'orange', 'taylorswift13':'purple', 'narendramodi':'pink', 'ladygaga':'white'\n",
        "\n",
        "}"
      ],
      "metadata": {
        "id": "BkYg2m5DDsuR"
      },
      "execution_count": null,
      "outputs": []
    },
    {
      "cell_type": "code",
      "source": [
        "fig, ax = plt.subplots(figsize=(16,12))\n",
        "plt.rc('font', size=16)\n",
        "plt.rc('axes', labelsize=16)\n",
        "\n",
        "p1= ax.bar(\n",
        "    x = df_sen[0:n].index,\n",
        "    height = df_sen[0:n]['compund'],\n",
        "    data=df_sen[0:n],\n",
        "    color = [c_map[c] for c in df['user']]\n",
        ")\n",
        "\n",
        "ax.set_title('Sentiment of tweet compared to amount of likes')\n",
        "ax.set_ylabel('Sentiment of tweet')\n",
        "ax.set_xlabel('Popularity of tweet(likes in descending order)')\n",
        "\n",
        "#ax.bar_label(p1, label_type='edge')\n",
        "\n",
        "plt.text(0,-0.75, f'% with pos sentiment: {len(df_sen[0:n].loc[df_sen[0:n][\"compund\"] > 0]) / n}')\n",
        "plt.text(0,-0.8, f'% with neu sentiment: {len(df_sen[0:n].loc[df_sen[0:n][\"compund\"] == 0]) / n}')\n",
        "plt.text(0,-0.85, f'% with neg sentiment: {len(df_sen[0:n].loc[df_sen[0:n][\"compund\"] < 0]) / n}')\n",
        "\n",
        "\n",
        "\n",
        "plt.show()\n"
      ],
      "metadata": {
        "colab": {
          "base_uri": "https://localhost:8080/",
          "height": 745
        },
        "outputId": "bd6acc4d-108e-4392-8fe5-0714bd5f02db",
        "id": "erVwZj0qDsuS"
      },
      "execution_count": null,
      "outputs": [
        {
          "output_type": "display_data",
          "data": {
            "text/plain": [
              "<Figure size 1152x864 with 1 Axes>"
            ],
            "image/png": "[encoded data removed]"
          },
          "metadata": {
            "needs_background": "light"
          }
        }
      ]
    },
    {
      "cell_type": "code",
      "source": [
        "df_sen.sort_values(by='compund')"
      ],
      "metadata": {
        "colab": {
          "base_uri": "https://localhost:8080/",
          "height": 607
        },
        "id": "9NyJwWD9C4KT",
        "outputId": "5e6e2a01-92b5-41fa-b40e-c43b7b08bfd7"
      },
      "execution_count": null,
      "outputs": [
        {
          "output_type": "execute_result",
          "data": {
            "text/plain": [
              "     index           user   likes  \\\n",
              "86     630  taylorswift13  373221   \n",
              "120    629  taylorswift13  285857   \n",
              "11     627  taylorswift13  827436   \n",
              "369     23    BarackObama   40353   \n",
              "97     639  taylorswift13  350674   \n",
              "..     ...            ...     ...   \n",
              "581    745   narendramodi   15713   \n",
              "61     593      Cristiano  462975   \n",
              "245    866       ladygaga   91726   \n",
              "442    836       ladygaga   28835   \n",
              "571    432        rihanna   16561   \n",
              "\n",
              "                                                                                                                                                                                                                                                                                                                                    tweet  \\\n",
              "86                                          Filled with rage and grief, and so broken by the murders in Uvalde. By Buffalo, Laguna Woods and so many others. By the ways in which we, as a nation, have become conditioned to unfathomable and unbearable heartbreak. Steve’s words ring so true and cut so deep. https://t.co/Rb5uwSTxty   \n",
              "120  About a year &amp; half ago I wrote a song about the story of a girl who always lived on the outside, looking in. Figuratively &amp; literally. The juxtaposition of her loneliness &amp; independence. Her curiosity &amp; fear all tangled up. Her persisting gentleness &amp; the world’s betrayal of it. https://t.co/2o1z8Hrht6   \n",
              "11                                                                                                                           I’m absolutely terrified that this is where we are - that after so many decades of people fighting for women’s rights to their own bodies, today’s decision has stripped us of that. https://t.co/mwK561oxxl   \n",
              "369                                                                                                                                                                                                                                                    We can and must do more to reduce gun violence in America. https://t.co/cfI3RIMLd2   \n",
              "97                                                                                              One of the saddest songs I’ve ever written just got sadder 🙃Drove up to Long Pond Studios to record All Too Well (Sad Girl Autumn Version) with the besties @aaron_dessner @heyjonlow \\n\\nhttps://t.co/UnbELgJGAi https://t.co/Z1XK2zQkwf   \n",
              "..                                                                                                                                                                                                                                                                                                                                    ...   \n",
              "581                                                  I bow to the great Subramania Bharathi on his Jayanti. ‘Mahakavi Bharathiar’ embodied remarkable courage and outstanding intellect. He had a grand vision for India’s development and the empowerment of every Indian. We are working to realise his ideas across different sectors.   \n",
              "61                                                            Life is a roller coaster. Hard work, high speed, urgent goals, demanding expectations… But in the end, it all comes down to family, love, honesty, friendship, values that make it all worth it. Thanks for all the messages! 37 and counting! ❤️🙏🏽 https://t.co/AoUgFiqVEy   \n",
              "245                                                 There was a time I thought I’d never be on stage again. I was so sad I couldn’t even dream anything but a painful nightmare. I’ve overcome my nightmare with love, support, trust, truth, bravery, talent and dedication.  I am so grateful. I’ll see you in BABYLON. #ChromaticaBall   \n",
              "442                                                                                                                                                             It’s the way all the love makes feel. My love for you, your love for me, our love for each other. That’s real. And it’s big love. Forever love. 🖤 https://t.co/cCs7i39HSj   \n",
              "571                                                                                                                                                 Love and gratitude to both The Prime Minister, The Honorable Mia Amor Mottley and our President, Her Excellency The Most Honorable Dame Sandra Mason for trusting me with this honor!   \n",
              "\n",
              "       neg    neu    pos  compund  \n",
              "86   0.317  0.626  0.057  -0.9489  \n",
              "120  0.182  0.818  0.000  -0.8689  \n",
              "11   0.185  0.815  0.000  -0.7778  \n",
              "369  0.381  0.619  0.000  -0.7759  \n",
              "97   0.187  0.759  0.053  -0.7430  \n",
              "..     ...    ...    ...      ...  \n",
              "581  0.000  0.590  0.410   0.9716  \n",
              "61   0.043  0.538  0.419   0.9777  \n",
              "245  0.091  0.458  0.451   0.9803  \n",
              "442  0.000  0.488  0.512   0.9803  \n",
              "571  0.042  0.404  0.553   0.9809  \n",
              "\n",
              "[900 rows x 8 columns]"
            ],
            "text/html": [
              "\n",
              "  <div id=\"df-16eab4d6-c87d-4bb5-82bc-b6d2f467199f\">\n",
              "    <div class=\"colab-df-container\">\n",
              "      <div>\n",
              "<style scoped>\n",
              "    .dataframe tbody tr th:only-of-type {\n",
              "        vertical-align: middle;\n",
              "    }\n",
              "\n",
              "    .dataframe tbody tr th {\n",
              "        vertical-align: top;\n",
              "    }\n",
              "\n",
              "    .dataframe thead th {\n",
              "        text-align: right;\n",
              "    }\n",
              "</style>\n",
              "<table border=\"1\" class=\"dataframe\">\n",
              "  <thead>\n",
              "    <tr style=\"text-align: right;\">\n",
              "      <th></th>\n",
              "      <th>index</th>\n",
              "      <th>user</th>\n",
              "      <th>likes</th>\n",
              "      <th>tweet</th>\n",
              "      <th>neg</th>\n",
              "      <th>neu</th>\n",
              "      <th>pos</th>\n",
              "      <th>compund</th>\n",
              "    </tr>\n",
              "  </thead>\n",
              "  <tbody>\n",
              "    <tr>\n",
              "      <th>86</th>\n",
              "      <td>630</td>\n",
              "      <td>taylorswift13</td>\n",
              "      <td>373221</td>\n",
              "      <td>Filled with rage and grief, and so broken by the murders in Uvalde. By Buffalo, Laguna Woods and so many others. By the ways in which we, as a nation, have become conditioned to unfathomable and unbearable heartbreak. Steve’s words ring so true and cut so deep. https://t.co/Rb5uwSTxty</td>\n",
              "      <td>0.317</td>\n",
              "      <td>0.626</td>\n",
              "      <td>0.057</td>\n",
              "      <td>-0.9489</td>\n",
              "    </tr>\n",
              "    <tr>\n",
              "      <th>120</th>\n",
              "      <td>629</td>\n",
              "      <td>taylorswift13</td>\n",
              "      <td>285857</td>\n",
              "      <td>About a year &amp;amp; half ago I wrote a song about the story of a girl who always lived on the outside, looking in. Figuratively &amp;amp; literally. The juxtaposition of her loneliness &amp;amp; independence. Her curiosity &amp;amp; fear all tangled up. Her persisting gentleness &amp;amp; the world’s betrayal of it. https://t.co/2o1z8Hrht6</td>\n",
              "      <td>0.182</td>\n",
              "      <td>0.818</td>\n",
              "      <td>0.000</td>\n",
              "      <td>-0.8689</td>\n",
              "    </tr>\n",
              "    <tr>\n",
              "      <th>11</th>\n",
              "      <td>627</td>\n",
              "      <td>taylorswift13</td>\n",
              "      <td>827436</td>\n",
              "      <td>I’m absolutely terrified that this is where we are - that after so many decades of people fighting for women’s rights to their own bodies, today’s decision has stripped us of that. https://t.co/mwK561oxxl</td>\n",
              "      <td>0.185</td>\n",
              "      <td>0.815</td>\n",
              "      <td>0.000</td>\n",
              "      <td>-0.7778</td>\n",
              "    </tr>\n",
              "    <tr>\n",
              "      <th>369</th>\n",
              "      <td>23</td>\n",
              "      <td>BarackObama</td>\n",
              "      <td>40353</td>\n",
              "      <td>We can and must do more to reduce gun violence in America. https://t.co/cfI3RIMLd2</td>\n",
              "      <td>0.381</td>\n",
              "      <td>0.619</td>\n",
              "      <td>0.000</td>\n",
              "      <td>-0.7759</td>\n",
              "    </tr>\n",
              "    <tr>\n",
              "      <th>97</th>\n",
              "      <td>639</td>\n",
              "      <td>taylorswift13</td>\n",
              "      <td>350674</td>\n",
              "      <td>One of the saddest songs I’ve ever written just got sadder 🙃Drove up to Long Pond Studios to record All Too Well (Sad Girl Autumn Version) with the besties @aaron_dessner @heyjonlow \\n\\nhttps://t.co/UnbELgJGAi https://t.co/Z1XK2zQkwf</td>\n",
              "      <td>0.187</td>\n",
              "      <td>0.759</td>\n",
              "      <td>0.053</td>\n",
              "      <td>-0.7430</td>\n",
              "    </tr>\n",
              "    <tr>\n",
              "      <th>...</th>\n",
              "      <td>...</td>\n",
              "      <td>...</td>\n",
              "      <td>...</td>\n",
              "      <td>...</td>\n",
              "      <td>...</td>\n",
              "      <td>...</td>\n",
              "      <td>...</td>\n",
              "      <td>...</td>\n",
              "    </tr>\n",
              "    <tr>\n",
              "      <th>581</th>\n",
              "      <td>745</td>\n",
              "      <td>narendramodi</td>\n",
              "      <td>15713</td>\n",
              "      <td>I bow to the great Subramania Bharathi on his Jayanti. ‘Mahakavi Bharathiar’ embodied remarkable courage and outstanding intellect. He had a grand vision for India’s development and the empowerment of every Indian. We are working to realise his ideas across different sectors.</td>\n",
              "      <td>0.000</td>\n",
              "      <td>0.590</td>\n",
              "      <td>0.410</td>\n",
              "      <td>0.9716</td>\n",
              "    </tr>\n",
              "    <tr>\n",
              "      <th>61</th>\n",
              "      <td>593</td>\n",
              "      <td>Cristiano</td>\n",
              "      <td>462975</td>\n",
              "      <td>Life is a roller coaster. Hard work, high speed, urgent goals, demanding expectations… But in the end, it all comes down to family, love, honesty, friendship, values that make it all worth it. Thanks for all the messages! 37 and counting! ❤️🙏🏽 https://t.co/AoUgFiqVEy</td>\n",
              "      <td>0.043</td>\n",
              "      <td>0.538</td>\n",
              "      <td>0.419</td>\n",
              "      <td>0.9777</td>\n",
              "    </tr>\n",
              "    <tr>\n",
              "      <th>245</th>\n",
              "      <td>866</td>\n",
              "      <td>ladygaga</td>\n",
              "      <td>91726</td>\n",
              "      <td>There was a time I thought I’d never be on stage again. I was so sad I couldn’t even dream anything but a painful nightmare. I’ve overcome my nightmare with love, support, trust, truth, bravery, talent and dedication.  I am so grateful. I’ll see you in BABYLON. #ChromaticaBall</td>\n",
              "      <td>0.091</td>\n",
              "      <td>0.458</td>\n",
              "      <td>0.451</td>\n",
              "      <td>0.9803</td>\n",
              "    </tr>\n",
              "    <tr>\n",
              "      <th>442</th>\n",
              "      <td>836</td>\n",
              "      <td>ladygaga</td>\n",
              "      <td>28835</td>\n",
              "      <td>It’s the way all the love makes feel. My love for you, your love for me, our love for each other. That’s real. And it’s big love. Forever love. 🖤 https://t.co/cCs7i39HSj</td>\n",
              "      <td>0.000</td>\n",
              "      <td>0.488</td>\n",
              "      <td>0.512</td>\n",
              "      <td>0.9803</td>\n",
              "    </tr>\n",
              "    <tr>\n",
              "      <th>571</th>\n",
              "      <td>432</td>\n",
              "      <td>rihanna</td>\n",
              "      <td>16561</td>\n",
              "      <td>Love and gratitude to both The Prime Minister, The Honorable Mia Amor Mottley and our President, Her Excellency The Most Honorable Dame Sandra Mason for trusting me with this honor!</td>\n",
              "      <td>0.042</td>\n",
              "      <td>0.404</td>\n",
              "      <td>0.553</td>\n",
              "      <td>0.9809</td>\n",
              "    </tr>\n",
              "  </tbody>\n",
              "</table>\n",
              "<p>900 rows × 8 columns</p>\n",
              "</div>\n",
              "      <button class=\"colab-df-convert\" onclick=\"convertToInteractive('df-16eab4d6-c87d-4bb5-82bc-b6d2f467199f')\"\n",
              "              title=\"Convert this dataframe to an interactive table.\"\n",
              "              style=\"display:none;\">\n",
              "        \n",
              "  <svg xmlns=\"http://www.w3.org/2000/svg\" height=\"24px\"viewBox=\"0 0 24 24\"\n",
              "       width=\"24px\">\n",
              "    <path d=\"M0 0h24v24H0V0z\" fill=\"none\"/>\n",
              "    <path d=\"M18.56 5.44l.94 2.06.94-2.06 2.06-.94-2.06-.94-.94-2.06-.94 2.06-2.06.94zm-11 1L8.5 8.5l.94-2.06 2.06-.94-2.06-.94L8.5 2.5l-.94 2.06-2.06.94zm10 10l.94 2.06.94-2.06 2.06-.94-2.06-.94-.94-2.06-.94 2.06-2.06.94z\"/><path d=\"M17.41 7.96l-1.37-1.37c-.4-.4-.92-.59-1.43-.59-.52 0-1.04.2-1.43.59L10.3 9.45l-7.72 7.72c-.78.78-.78 2.05 0 2.83L4 21.41c.39.39.9.59 1.41.59.51 0 1.02-.2 1.41-.59l7.78-7.78 2.81-2.81c.8-.78.8-2.07 0-2.86zM5.41 20L4 18.59l7.72-7.72 1.47 1.35L5.41 20z\"/>\n",
              "  </svg>\n",
              "      </button>\n",
              "      \n",
              "  <style>\n",
              "    .colab-df-container {\n",
              "      display:flex;\n",
              "      flex-wrap:wrap;\n",
              "      gap: 12px;\n",
              "    }\n",
              "\n",
              "    .colab-df-convert {\n",
              "      background-color: #E8F0FE;\n",
              "      border: none;\n",
              "      border-radius: 50%;\n",
              "      cursor: pointer;\n",
              "      display: none;\n",
              "      fill: #1967D2;\n",
              "      height: 32px;\n",
              "      padding: 0 0 0 0;\n",
              "      width: 32px;\n",
              "    }\n",
              "\n",
              "    .colab-df-convert:hover {\n",
              "      background-color: #E2EBFA;\n",
              "      box-shadow: 0px 1px 2px rgba(60, 64, 67, 0.3), 0px 1px 3px 1px rgba(60, 64, 67, 0.15);\n",
              "      fill: #174EA6;\n",
              "    }\n",
              "\n",
              "    [theme=dark] .colab-df-convert {\n",
              "      background-color: #3B4455;\n",
              "      fill: #D2E3FC;\n",
              "    }\n",
              "\n",
              "    [theme=dark] .colab-df-convert:hover {\n",
              "      background-color: #434B5C;\n",
              "      box-shadow: 0px 1px 3px 1px rgba(0, 0, 0, 0.15);\n",
              "      filter: drop-shadow(0px 1px 2px rgba(0, 0, 0, 0.3));\n",
              "      fill: #FFFFFF;\n",
              "    }\n",
              "  </style>\n",
              "\n",
              "      <script>\n",
              "        const buttonEl =\n",
              "          document.querySelector('#df-16eab4d6-c87d-4bb5-82bc-b6d2f467199f button.colab-df-convert');\n",
              "        buttonEl.style.display =\n",
              "          google.colab.kernel.accessAllowed ? 'block' : 'none';\n",
              "\n",
              "        async function convertToInteractive(key) {\n",
              "          const element = document.querySelector('#df-16eab4d6-c87d-4bb5-82bc-b6d2f467199f');\n",
              "          const dataTable =\n",
              "            await google.colab.kernel.invokeFunction('convertToInteractive',\n",
              "                                                     [key], {});\n",
              "          if (!dataTable) return;\n",
              "\n",
              "          const docLinkHtml = 'Like what you see? Visit the ' +\n",
              "            '<a target=\"_blank\" href=https://colab.research.google.com/notebooks/data_table.ipynb>data table notebook</a>'\n",
              "            + ' to learn more about interactive tables.';\n",
              "          element.innerHTML = '';\n",
              "          dataTable['output_type'] = 'display_data';\n",
              "          await google.colab.output.renderOutput(dataTable, element);\n",
              "          const docLink = document.createElement('div');\n",
              "          docLink.innerHTML = docLinkHtml;\n",
              "          element.appendChild(docLink);\n",
              "        }\n",
              "      </script>\n",
              "    </div>\n",
              "  </div>\n",
              "  "
            ]
          },
          "metadata": {},
          "execution_count": 60
        }
      ]
    },
    {
      "cell_type": "code",
      "source": [],
      "metadata": {
        "id": "AC2EWg3EC4H-"
      },
      "execution_count": null,
      "outputs": []
    },
    {
      "cell_type": "code",
      "source": [],
      "metadata": {
        "id": "5C-UgIXwC4F1"
      },
      "execution_count": null,
      "outputs": []
    },
    {
      "cell_type": "code",
      "source": [],
      "metadata": {
        "id": "nRmCS7U0C4DO"
      },
      "execution_count": null,
      "outputs": []
    },
    {
      "cell_type": "markdown",
      "source": [
        "# Compare likes and retweets"
      ],
      "metadata": {
        "id": "LcV22cqlC0Ev"
      }
    },
    {
      "cell_type": "code",
      "source": [],
      "metadata": {
        "id": "2YUrGVkLC2ID"
      },
      "execution_count": null,
      "outputs": []
    }
  ]
}