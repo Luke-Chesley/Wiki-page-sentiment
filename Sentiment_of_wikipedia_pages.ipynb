{
  "nbformat": 4,
  "nbformat_minor": 0,
  "metadata": {
    "colab": {
      "provenance": [],
      "authorship_tag": "ABX9TyPcvYBijnRvMR5Cc4lMDvEd",
      "include_colab_link": true
    },
    "kernelspec": {
      "name": "python3",
      "display_name": "Python 3"
    },
    "language_info": {
      "name": "python"
    }
  },
  "cells": [
    {
      "cell_type": "markdown",
      "metadata": {
        "id": "view-in-github",
        "colab_type": "text"
      },
      "source": [
        "<a href=\"https://colab.research.google.com/github/Luke-Chesley/Wiki-page-sentiment/blob/main/Sentiment_of_wikipedia_pages.ipynb\" target=\"_parent\"><img src=\"https://colab.research.google.com/assets/colab-badge.svg\" alt=\"Open In Colab\"/></a>"
      ]
    },
    {
      "cell_type": "code",
      "source": [
        "!pip install wikipedia"
      ],
      "metadata": {
        "id": "1OePWnvKHcPm"
      },
      "execution_count": null,
      "outputs": []
    },
    {
      "cell_type": "code",
      "execution_count": 243,
      "metadata": {
        "colab": {
          "base_uri": "https://localhost:8080/"
        },
        "id": "7lM3kQKnHaoT",
        "outputId": "9cd011e1-4241-4a64-9e8c-de705b64db2a"
      },
      "outputs": [
        {
          "output_type": "stream",
          "name": "stderr",
          "text": [
            "[nltk_data] Downloading package stopwords to /root/nltk_data...\n",
            "[nltk_data]   Package stopwords is already up-to-date!\n",
            "[nltk_data] Downloading package vader_lexicon to /root/nltk_data...\n",
            "[nltk_data]   Package vader_lexicon is already up-to-date!\n",
            "[nltk_data] Downloading package punkt to /root/nltk_data...\n",
            "[nltk_data]   Package punkt is already up-to-date!\n"
          ]
        },
        {
          "output_type": "execute_result",
          "data": {
            "text/plain": [
              "True"
            ]
          },
          "metadata": {},
          "execution_count": 243
        }
      ],
      "source": [
        "from bs4 import BeautifulSoup\n",
        "import requests\n",
        "import pandas as pd\n",
        "import wikipedia\n",
        "import string\n",
        "import nltk\n",
        "\n",
        "from nltk.sentiment.vader import SentimentIntensityAnalyzer\n",
        "\n",
        "\n",
        "\n",
        "import nltk\n",
        "nltk.download('stopwords')\n",
        "nltk.download('vader_lexicon')\n",
        "from nltk.corpus import stopwords\n",
        "from nltk.tokenize import word_tokenize\n",
        "nltk.download('punkt')"
      ]
    },
    {
      "cell_type": "code",
      "source": [
        "def sentiment_of_wiki_page(title):\n",
        "  wiki = wikipedia.page(title, auto_suggest=False)\n",
        "  text = wiki.content\n",
        "  word_tokens = word_tokenize(text)\n",
        "  stops = stopwords.words('english')\n",
        "  for n in string.punctuation:\n",
        "    stops.append(n)\n",
        "\n",
        "\n",
        "  additional_stops = ['==',\"''\",\"'s\",'``','``','———','ISBN','===']\n",
        "  for stop in additional_stops:\n",
        "    stops.append(stop)\n",
        "\n",
        "  filtered_text = [w for w in word_tokens if not w.lower() in stops]\n",
        "  sendf = pd.DataFrame(filtered_text,columns=['text'])\n",
        "  sid = SentimentIntensityAnalyzer()\n",
        "  sendf[['neg', 'neu', 'pos', 'compund']] = sendf['text'].apply(sid.polarity_scores).apply(pd.Series)\n",
        "  sendf = sendf[sendf.compund != 0.0].drop_duplicates()\n",
        "  sum_score = sendf['compund'].sum()\n",
        "  mean_score = sendf['compund'].mean()\n",
        "  median_score = sendf['compund'].median()\n",
        "\n",
        "\n",
        "  return f\"sum score = {round(sum_score, 3)}, mean score = {round(mean_score,3)}, median score = {round(median_score,3)}\""
      ],
      "metadata": {
        "id": "80YcQXLBbpxC"
      },
      "execution_count": 257,
      "outputs": []
    },
    {
      "cell_type": "code",
      "source": [
        "list_of_candidates = ['Joe Biden', 'Robert F. Kennedy Jr.',\n",
        "                      'Marianne Williamson',\n",
        "                      'Doug Burgum',\n",
        "                      'Chris Christie',\n",
        "                      'Ron DeSantis',\n",
        "                      'Larry Elder',\n",
        "                      'Nikki Haley',\n",
        "                      \"Asa Hutchinson\",\n",
        "                      'Mike Pence',\n",
        "                      'Vivek Ramaswamy',\n",
        "                      'Tim Scott',\n",
        "                      'Corey Stapleton',\n",
        "                      'Francis X. Suarez',\n",
        "                      'Donald Trump']"
      ],
      "metadata": {
        "id": "TSiAQ__uhgJp"
      },
      "execution_count": 262,
      "outputs": []
    },
    {
      "cell_type": "code",
      "source": [
        "for candidate in list_of_candidates:\n",
        "  print(f\"{candidate} : {sentiment_of_wiki_page(candidate)}\")"
      ],
      "metadata": {
        "colab": {
          "base_uri": "https://localhost:8080/"
        },
        "id": "hb0nNH_5jV2M",
        "outputId": "1a3df946-ec9e-4977-9d2d-e3b557066d3b"
      },
      "execution_count": 263,
      "outputs": [
        {
          "output_type": "stream",
          "name": "stdout",
          "text": [
            "Joe Biden : sum score = 2.3, mean score = 0.005, median score = 0.103\n",
            "Robert F. Kennedy Jr. : sum score = -22.936, mean score = -0.065, median score = -0.226\n",
            "Marianne Williamson : sum score = 12.007, mean score = 0.047, median score = 0.226\n",
            "Doug Burgum : sum score = 10.126, mean score = 0.199, median score = 0.318\n",
            "Chris Christie : sum score = -4.301, mean score = -0.014, median score = 0.077\n",
            "Ron DeSantis : sum score = -11.597, mean score = -0.045, median score = -0.103\n",
            "Larry Elder : sum score = -8.388, mean score = -0.055, median score = -0.19\n",
            "Nikki Haley : sum score = 3.197, mean score = 0.012, median score = 0.103\n",
            "Asa Hutchinson : sum score = -2.4, mean score = -0.028, median score = 0.128\n",
            "Mike Pence : sum score = 10.887, mean score = 0.032, median score = 0.128\n",
            "Vivek Ramaswamy : sum score = 5.0, mean score = 0.102, median score = 0.273\n",
            "Tim Scott : sum score = 7.533, mean score = 0.056, median score = 0.238\n",
            "Corey Stapleton : sum score = 1.788, mean score = 0.054, median score = 0.077\n",
            "Francis X. Suarez : sum score = 1.041, mean score = 0.024, median score = 0.013\n",
            "Donald Trump : sum score = -32.87, mean score = -0.064, median score = -0.202\n"
          ]
        }
      ]
    },
    {
      "cell_type": "code",
      "source": [],
      "metadata": {
        "id": "xckQiQjOjc5L"
      },
      "execution_count": null,
      "outputs": []
    }
  ]
}